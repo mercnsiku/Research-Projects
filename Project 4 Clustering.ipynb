{
 "cells": [
  {
   "cell_type": "code",
   "execution_count": 59,
   "id": "6ac2accb",
   "metadata": {},
   "outputs": [
    {
     "name": "stdout",
     "output_type": "stream",
     "text": [
      "Requirement already satisfied: plotly.express in c:\\users\\mercn\\anaconda3\\lib\\site-packages (0.4.1)\n",
      "Requirement already satisfied: pandas>=0.20.0 in c:\\users\\mercn\\anaconda3\\lib\\site-packages (from plotly.express) (2.0.3)\n",
      "Requirement already satisfied: plotly>=4.1.0 in c:\\users\\mercn\\anaconda3\\lib\\site-packages (from plotly.express) (5.9.0)\n",
      "Requirement already satisfied: statsmodels>=0.9.0 in c:\\users\\mercn\\anaconda3\\lib\\site-packages (from plotly.express) (0.14.0)\n",
      "Requirement already satisfied: scipy>=0.18 in c:\\users\\mercn\\anaconda3\\lib\\site-packages (from plotly.express) (1.11.1)\n",
      "Requirement already satisfied: patsy>=0.5 in c:\\users\\mercn\\anaconda3\\lib\\site-packages (from plotly.express) (0.5.3)\n",
      "Requirement already satisfied: numpy>=1.11 in c:\\users\\mercn\\anaconda3\\lib\\site-packages (from plotly.express) (1.24.3)\n",
      "Requirement already satisfied: python-dateutil>=2.8.2 in c:\\users\\mercn\\anaconda3\\lib\\site-packages (from pandas>=0.20.0->plotly.express) (2.8.2)\n",
      "Requirement already satisfied: pytz>=2020.1 in c:\\users\\mercn\\anaconda3\\lib\\site-packages (from pandas>=0.20.0->plotly.express) (2023.3.post1)\n",
      "Requirement already satisfied: tzdata>=2022.1 in c:\\users\\mercn\\anaconda3\\lib\\site-packages (from pandas>=0.20.0->plotly.express) (2023.3)\n",
      "Requirement already satisfied: six in c:\\users\\mercn\\anaconda3\\lib\\site-packages (from patsy>=0.5->plotly.express) (1.16.0)\n",
      "Requirement already satisfied: tenacity>=6.2.0 in c:\\users\\mercn\\anaconda3\\lib\\site-packages (from plotly>=4.1.0->plotly.express) (8.2.2)\n",
      "Requirement already satisfied: packaging>=21.3 in c:\\users\\mercn\\anaconda3\\lib\\site-packages (from statsmodels>=0.9.0->plotly.express) (23.1)\n"
     ]
    }
   ],
   "source": [
    "import pandas as pd\n",
    "import seaborn as sns\n",
    "import numpy as np\n",
    "from sklearn.cluster import KMeans\n",
    "from sklearn.preprocessing import StandardScaler\n",
    "import matplotlib.pyplot as plt\n",
    "from sklearn.decomposition import PCA\n",
    "!pip install plotly.express\n",
    "from sklearn import preprocessing"
   ]
  },
  {
   "cell_type": "code",
   "execution_count": 60,
   "id": "114b7f13",
   "metadata": {},
   "outputs": [],
   "source": [
    "import plotly.express as px"
   ]
  },
  {
   "cell_type": "code",
   "execution_count": 61,
   "id": "30795fcc",
   "metadata": {},
   "outputs": [],
   "source": [
    "df = pd.read_csv('country-data.csv')\n",
    "data_df = pd.read_csv('data-dictionary.csv')"
   ]
  },
  {
   "cell_type": "code",
   "execution_count": 62,
   "id": "f24b38c8",
   "metadata": {},
   "outputs": [
    {
     "data": {
      "text/html": [
       "<div>\n",
       "<style scoped>\n",
       "    .dataframe tbody tr th:only-of-type {\n",
       "        vertical-align: middle;\n",
       "    }\n",
       "\n",
       "    .dataframe tbody tr th {\n",
       "        vertical-align: top;\n",
       "    }\n",
       "\n",
       "    .dataframe thead th {\n",
       "        text-align: right;\n",
       "    }\n",
       "</style>\n",
       "<table border=\"1\" class=\"dataframe\">\n",
       "  <thead>\n",
       "    <tr style=\"text-align: right;\">\n",
       "      <th></th>\n",
       "      <th>country</th>\n",
       "      <th>child_mort</th>\n",
       "      <th>exports</th>\n",
       "      <th>health</th>\n",
       "      <th>imports</th>\n",
       "      <th>income</th>\n",
       "      <th>inflation</th>\n",
       "      <th>life_expec</th>\n",
       "      <th>total_fer</th>\n",
       "      <th>gdpp</th>\n",
       "    </tr>\n",
       "  </thead>\n",
       "  <tbody>\n",
       "    <tr>\n",
       "      <th>0</th>\n",
       "      <td>Afghanistan</td>\n",
       "      <td>90.2</td>\n",
       "      <td>10.0</td>\n",
       "      <td>7.58</td>\n",
       "      <td>44.9</td>\n",
       "      <td>1610</td>\n",
       "      <td>9.44</td>\n",
       "      <td>56.2</td>\n",
       "      <td>5.82</td>\n",
       "      <td>553</td>\n",
       "    </tr>\n",
       "    <tr>\n",
       "      <th>1</th>\n",
       "      <td>Albania</td>\n",
       "      <td>16.6</td>\n",
       "      <td>28.0</td>\n",
       "      <td>6.55</td>\n",
       "      <td>48.6</td>\n",
       "      <td>9930</td>\n",
       "      <td>4.49</td>\n",
       "      <td>76.3</td>\n",
       "      <td>1.65</td>\n",
       "      <td>4090</td>\n",
       "    </tr>\n",
       "    <tr>\n",
       "      <th>2</th>\n",
       "      <td>Algeria</td>\n",
       "      <td>27.3</td>\n",
       "      <td>38.4</td>\n",
       "      <td>4.17</td>\n",
       "      <td>31.4</td>\n",
       "      <td>12900</td>\n",
       "      <td>16.10</td>\n",
       "      <td>76.5</td>\n",
       "      <td>2.89</td>\n",
       "      <td>4460</td>\n",
       "    </tr>\n",
       "    <tr>\n",
       "      <th>3</th>\n",
       "      <td>Angola</td>\n",
       "      <td>119.0</td>\n",
       "      <td>62.3</td>\n",
       "      <td>2.85</td>\n",
       "      <td>42.9</td>\n",
       "      <td>5900</td>\n",
       "      <td>22.40</td>\n",
       "      <td>60.1</td>\n",
       "      <td>6.16</td>\n",
       "      <td>3530</td>\n",
       "    </tr>\n",
       "    <tr>\n",
       "      <th>4</th>\n",
       "      <td>Antigua and Barbuda</td>\n",
       "      <td>10.3</td>\n",
       "      <td>45.5</td>\n",
       "      <td>6.03</td>\n",
       "      <td>58.9</td>\n",
       "      <td>19100</td>\n",
       "      <td>1.44</td>\n",
       "      <td>76.8</td>\n",
       "      <td>2.13</td>\n",
       "      <td>12200</td>\n",
       "    </tr>\n",
       "    <tr>\n",
       "      <th>...</th>\n",
       "      <td>...</td>\n",
       "      <td>...</td>\n",
       "      <td>...</td>\n",
       "      <td>...</td>\n",
       "      <td>...</td>\n",
       "      <td>...</td>\n",
       "      <td>...</td>\n",
       "      <td>...</td>\n",
       "      <td>...</td>\n",
       "      <td>...</td>\n",
       "    </tr>\n",
       "    <tr>\n",
       "      <th>162</th>\n",
       "      <td>Vanuatu</td>\n",
       "      <td>29.2</td>\n",
       "      <td>46.6</td>\n",
       "      <td>5.25</td>\n",
       "      <td>52.7</td>\n",
       "      <td>2950</td>\n",
       "      <td>2.62</td>\n",
       "      <td>63.0</td>\n",
       "      <td>3.50</td>\n",
       "      <td>2970</td>\n",
       "    </tr>\n",
       "    <tr>\n",
       "      <th>163</th>\n",
       "      <td>Venezuela</td>\n",
       "      <td>17.1</td>\n",
       "      <td>28.5</td>\n",
       "      <td>4.91</td>\n",
       "      <td>17.6</td>\n",
       "      <td>16500</td>\n",
       "      <td>45.90</td>\n",
       "      <td>75.4</td>\n",
       "      <td>2.47</td>\n",
       "      <td>13500</td>\n",
       "    </tr>\n",
       "    <tr>\n",
       "      <th>164</th>\n",
       "      <td>Vietnam</td>\n",
       "      <td>23.3</td>\n",
       "      <td>72.0</td>\n",
       "      <td>6.84</td>\n",
       "      <td>80.2</td>\n",
       "      <td>4490</td>\n",
       "      <td>12.10</td>\n",
       "      <td>73.1</td>\n",
       "      <td>1.95</td>\n",
       "      <td>1310</td>\n",
       "    </tr>\n",
       "    <tr>\n",
       "      <th>165</th>\n",
       "      <td>Yemen</td>\n",
       "      <td>56.3</td>\n",
       "      <td>30.0</td>\n",
       "      <td>5.18</td>\n",
       "      <td>34.4</td>\n",
       "      <td>4480</td>\n",
       "      <td>23.60</td>\n",
       "      <td>67.5</td>\n",
       "      <td>4.67</td>\n",
       "      <td>1310</td>\n",
       "    </tr>\n",
       "    <tr>\n",
       "      <th>166</th>\n",
       "      <td>Zambia</td>\n",
       "      <td>83.1</td>\n",
       "      <td>37.0</td>\n",
       "      <td>5.89</td>\n",
       "      <td>30.9</td>\n",
       "      <td>3280</td>\n",
       "      <td>14.00</td>\n",
       "      <td>52.0</td>\n",
       "      <td>5.40</td>\n",
       "      <td>1460</td>\n",
       "    </tr>\n",
       "  </tbody>\n",
       "</table>\n",
       "<p>167 rows × 10 columns</p>\n",
       "</div>"
      ],
      "text/plain": [
       "                 country  child_mort  exports  health  imports  income  \\\n",
       "0            Afghanistan        90.2     10.0    7.58     44.9    1610   \n",
       "1                Albania        16.6     28.0    6.55     48.6    9930   \n",
       "2                Algeria        27.3     38.4    4.17     31.4   12900   \n",
       "3                 Angola       119.0     62.3    2.85     42.9    5900   \n",
       "4    Antigua and Barbuda        10.3     45.5    6.03     58.9   19100   \n",
       "..                   ...         ...      ...     ...      ...     ...   \n",
       "162              Vanuatu        29.2     46.6    5.25     52.7    2950   \n",
       "163            Venezuela        17.1     28.5    4.91     17.6   16500   \n",
       "164              Vietnam        23.3     72.0    6.84     80.2    4490   \n",
       "165                Yemen        56.3     30.0    5.18     34.4    4480   \n",
       "166               Zambia        83.1     37.0    5.89     30.9    3280   \n",
       "\n",
       "     inflation  life_expec  total_fer   gdpp  \n",
       "0         9.44        56.2       5.82    553  \n",
       "1         4.49        76.3       1.65   4090  \n",
       "2        16.10        76.5       2.89   4460  \n",
       "3        22.40        60.1       6.16   3530  \n",
       "4         1.44        76.8       2.13  12200  \n",
       "..         ...         ...        ...    ...  \n",
       "162       2.62        63.0       3.50   2970  \n",
       "163      45.90        75.4       2.47  13500  \n",
       "164      12.10        73.1       1.95   1310  \n",
       "165      23.60        67.5       4.67   1310  \n",
       "166      14.00        52.0       5.40   1460  \n",
       "\n",
       "[167 rows x 10 columns]"
      ]
     },
     "execution_count": 62,
     "metadata": {},
     "output_type": "execute_result"
    }
   ],
   "source": [
    "df"
   ]
  },
  {
   "cell_type": "code",
   "execution_count": 63,
   "id": "97c6fe96",
   "metadata": {},
   "outputs": [
    {
     "data": {
      "text/html": [
       "<div>\n",
       "<style scoped>\n",
       "    .dataframe tbody tr th:only-of-type {\n",
       "        vertical-align: middle;\n",
       "    }\n",
       "\n",
       "    .dataframe tbody tr th {\n",
       "        vertical-align: top;\n",
       "    }\n",
       "\n",
       "    .dataframe thead th {\n",
       "        text-align: right;\n",
       "    }\n",
       "</style>\n",
       "<table border=\"1\" class=\"dataframe\">\n",
       "  <thead>\n",
       "    <tr style=\"text-align: right;\">\n",
       "      <th></th>\n",
       "      <th>Column Name</th>\n",
       "      <th>Description</th>\n",
       "    </tr>\n",
       "  </thead>\n",
       "  <tbody>\n",
       "    <tr>\n",
       "      <th>0</th>\n",
       "      <td>country</td>\n",
       "      <td>Name of the country</td>\n",
       "    </tr>\n",
       "    <tr>\n",
       "      <th>1</th>\n",
       "      <td>child_mort</td>\n",
       "      <td>Death of children under 5 years of age per 100...</td>\n",
       "    </tr>\n",
       "    <tr>\n",
       "      <th>2</th>\n",
       "      <td>exports</td>\n",
       "      <td>Exports of goods and services per capita. Give...</td>\n",
       "    </tr>\n",
       "    <tr>\n",
       "      <th>3</th>\n",
       "      <td>health</td>\n",
       "      <td>Total health spending per capita. Given as %ag...</td>\n",
       "    </tr>\n",
       "    <tr>\n",
       "      <th>4</th>\n",
       "      <td>imports</td>\n",
       "      <td>Imports of goods and services per capita. Give...</td>\n",
       "    </tr>\n",
       "    <tr>\n",
       "      <th>5</th>\n",
       "      <td>Income</td>\n",
       "      <td>Net income per person</td>\n",
       "    </tr>\n",
       "    <tr>\n",
       "      <th>6</th>\n",
       "      <td>Inflation</td>\n",
       "      <td>The measurement of the annual growth rate of t...</td>\n",
       "    </tr>\n",
       "    <tr>\n",
       "      <th>7</th>\n",
       "      <td>life_expec</td>\n",
       "      <td>The average number of years a new born child w...</td>\n",
       "    </tr>\n",
       "    <tr>\n",
       "      <th>8</th>\n",
       "      <td>total_fer</td>\n",
       "      <td>The number of children that would be born to e...</td>\n",
       "    </tr>\n",
       "    <tr>\n",
       "      <th>9</th>\n",
       "      <td>gdpp</td>\n",
       "      <td>The GDP per capita. Calculated as the Total GD...</td>\n",
       "    </tr>\n",
       "  </tbody>\n",
       "</table>\n",
       "</div>"
      ],
      "text/plain": [
       "  Column Name                                        Description\n",
       "0     country                                Name of the country\n",
       "1  child_mort  Death of children under 5 years of age per 100...\n",
       "2     exports  Exports of goods and services per capita. Give...\n",
       "3      health  Total health spending per capita. Given as %ag...\n",
       "4     imports  Imports of goods and services per capita. Give...\n",
       "5      Income                              Net income per person\n",
       "6   Inflation  The measurement of the annual growth rate of t...\n",
       "7  life_expec  The average number of years a new born child w...\n",
       "8   total_fer  The number of children that would be born to e...\n",
       "9        gdpp  The GDP per capita. Calculated as the Total GD..."
      ]
     },
     "execution_count": 63,
     "metadata": {},
     "output_type": "execute_result"
    }
   ],
   "source": [
    "data_df"
   ]
  },
  {
   "cell_type": "code",
   "execution_count": 64,
   "id": "73bdbd06",
   "metadata": {},
   "outputs": [
    {
     "data": {
      "text/html": [
       "<div>\n",
       "<style scoped>\n",
       "    .dataframe tbody tr th:only-of-type {\n",
       "        vertical-align: middle;\n",
       "    }\n",
       "\n",
       "    .dataframe tbody tr th {\n",
       "        vertical-align: top;\n",
       "    }\n",
       "\n",
       "    .dataframe thead th {\n",
       "        text-align: right;\n",
       "    }\n",
       "</style>\n",
       "<table border=\"1\" class=\"dataframe\">\n",
       "  <thead>\n",
       "    <tr style=\"text-align: right;\">\n",
       "      <th></th>\n",
       "      <th>child_mort</th>\n",
       "      <th>exports</th>\n",
       "      <th>health</th>\n",
       "      <th>imports</th>\n",
       "      <th>income</th>\n",
       "      <th>inflation</th>\n",
       "      <th>life_expec</th>\n",
       "      <th>total_fer</th>\n",
       "      <th>gdpp</th>\n",
       "    </tr>\n",
       "  </thead>\n",
       "  <tbody>\n",
       "    <tr>\n",
       "      <th>count</th>\n",
       "      <td>167.000000</td>\n",
       "      <td>167.000000</td>\n",
       "      <td>167.000000</td>\n",
       "      <td>167.000000</td>\n",
       "      <td>167.000000</td>\n",
       "      <td>167.000000</td>\n",
       "      <td>167.000000</td>\n",
       "      <td>167.000000</td>\n",
       "      <td>167.000000</td>\n",
       "    </tr>\n",
       "    <tr>\n",
       "      <th>mean</th>\n",
       "      <td>38.270060</td>\n",
       "      <td>41.108976</td>\n",
       "      <td>6.815689</td>\n",
       "      <td>46.890215</td>\n",
       "      <td>17144.688623</td>\n",
       "      <td>7.781832</td>\n",
       "      <td>70.555689</td>\n",
       "      <td>2.947964</td>\n",
       "      <td>12964.155689</td>\n",
       "    </tr>\n",
       "    <tr>\n",
       "      <th>std</th>\n",
       "      <td>40.328931</td>\n",
       "      <td>27.412010</td>\n",
       "      <td>2.746837</td>\n",
       "      <td>24.209589</td>\n",
       "      <td>19278.067698</td>\n",
       "      <td>10.570704</td>\n",
       "      <td>8.893172</td>\n",
       "      <td>1.513848</td>\n",
       "      <td>18328.704809</td>\n",
       "    </tr>\n",
       "    <tr>\n",
       "      <th>min</th>\n",
       "      <td>2.600000</td>\n",
       "      <td>0.109000</td>\n",
       "      <td>1.810000</td>\n",
       "      <td>0.065900</td>\n",
       "      <td>609.000000</td>\n",
       "      <td>-4.210000</td>\n",
       "      <td>32.100000</td>\n",
       "      <td>1.150000</td>\n",
       "      <td>231.000000</td>\n",
       "    </tr>\n",
       "    <tr>\n",
       "      <th>25%</th>\n",
       "      <td>8.250000</td>\n",
       "      <td>23.800000</td>\n",
       "      <td>4.920000</td>\n",
       "      <td>30.200000</td>\n",
       "      <td>3355.000000</td>\n",
       "      <td>1.810000</td>\n",
       "      <td>65.300000</td>\n",
       "      <td>1.795000</td>\n",
       "      <td>1330.000000</td>\n",
       "    </tr>\n",
       "    <tr>\n",
       "      <th>50%</th>\n",
       "      <td>19.300000</td>\n",
       "      <td>35.000000</td>\n",
       "      <td>6.320000</td>\n",
       "      <td>43.300000</td>\n",
       "      <td>9960.000000</td>\n",
       "      <td>5.390000</td>\n",
       "      <td>73.100000</td>\n",
       "      <td>2.410000</td>\n",
       "      <td>4660.000000</td>\n",
       "    </tr>\n",
       "    <tr>\n",
       "      <th>75%</th>\n",
       "      <td>62.100000</td>\n",
       "      <td>51.350000</td>\n",
       "      <td>8.600000</td>\n",
       "      <td>58.750000</td>\n",
       "      <td>22800.000000</td>\n",
       "      <td>10.750000</td>\n",
       "      <td>76.800000</td>\n",
       "      <td>3.880000</td>\n",
       "      <td>14050.000000</td>\n",
       "    </tr>\n",
       "    <tr>\n",
       "      <th>max</th>\n",
       "      <td>208.000000</td>\n",
       "      <td>200.000000</td>\n",
       "      <td>17.900000</td>\n",
       "      <td>174.000000</td>\n",
       "      <td>125000.000000</td>\n",
       "      <td>104.000000</td>\n",
       "      <td>82.800000</td>\n",
       "      <td>7.490000</td>\n",
       "      <td>105000.000000</td>\n",
       "    </tr>\n",
       "  </tbody>\n",
       "</table>\n",
       "</div>"
      ],
      "text/plain": [
       "       child_mort     exports      health     imports         income  \\\n",
       "count  167.000000  167.000000  167.000000  167.000000     167.000000   \n",
       "mean    38.270060   41.108976    6.815689   46.890215   17144.688623   \n",
       "std     40.328931   27.412010    2.746837   24.209589   19278.067698   \n",
       "min      2.600000    0.109000    1.810000    0.065900     609.000000   \n",
       "25%      8.250000   23.800000    4.920000   30.200000    3355.000000   \n",
       "50%     19.300000   35.000000    6.320000   43.300000    9960.000000   \n",
       "75%     62.100000   51.350000    8.600000   58.750000   22800.000000   \n",
       "max    208.000000  200.000000   17.900000  174.000000  125000.000000   \n",
       "\n",
       "        inflation  life_expec   total_fer           gdpp  \n",
       "count  167.000000  167.000000  167.000000     167.000000  \n",
       "mean     7.781832   70.555689    2.947964   12964.155689  \n",
       "std     10.570704    8.893172    1.513848   18328.704809  \n",
       "min     -4.210000   32.100000    1.150000     231.000000  \n",
       "25%      1.810000   65.300000    1.795000    1330.000000  \n",
       "50%      5.390000   73.100000    2.410000    4660.000000  \n",
       "75%     10.750000   76.800000    3.880000   14050.000000  \n",
       "max    104.000000   82.800000    7.490000  105000.000000  "
      ]
     },
     "execution_count": 64,
     "metadata": {},
     "output_type": "execute_result"
    }
   ],
   "source": [
    "df.describe()"
   ]
  },
  {
   "cell_type": "code",
   "execution_count": 65,
   "id": "2ad48d39",
   "metadata": {},
   "outputs": [
    {
     "data": {
      "text/plain": [
       "country        object\n",
       "child_mort    float64\n",
       "exports       float64\n",
       "health        float64\n",
       "imports       float64\n",
       "income          int64\n",
       "inflation     float64\n",
       "life_expec    float64\n",
       "total_fer     float64\n",
       "gdpp            int64\n",
       "dtype: object"
      ]
     },
     "execution_count": 65,
     "metadata": {},
     "output_type": "execute_result"
    }
   ],
   "source": [
    "df.dtypes"
   ]
  },
  {
   "cell_type": "code",
   "execution_count": 66,
   "id": "445ecba4",
   "metadata": {},
   "outputs": [
    {
     "data": {
      "text/plain": [
       "(167, 10)"
      ]
     },
     "execution_count": 66,
     "metadata": {},
     "output_type": "execute_result"
    }
   ],
   "source": [
    "df.shape"
   ]
  },
  {
   "cell_type": "code",
   "execution_count": 67,
   "id": "8c7363e0",
   "metadata": {},
   "outputs": [
    {
     "data": {
      "text/plain": [
       "country       0\n",
       "child_mort    0\n",
       "exports       0\n",
       "health        0\n",
       "imports       0\n",
       "income        0\n",
       "inflation     0\n",
       "life_expec    0\n",
       "total_fer     0\n",
       "gdpp          0\n",
       "dtype: int64"
      ]
     },
     "execution_count": 67,
     "metadata": {},
     "output_type": "execute_result"
    }
   ],
   "source": [
    "df.isna().sum()"
   ]
  },
  {
   "cell_type": "code",
   "execution_count": 68,
   "id": "02e78ab2",
   "metadata": {},
   "outputs": [
    {
     "data": {
      "text/plain": [
       "Index(['country', 'child_mort', 'exports', 'health', 'imports', 'income',\n",
       "       'inflation', 'life_expec', 'total_fer', 'gdpp'],\n",
       "      dtype='object')"
      ]
     },
     "execution_count": 68,
     "metadata": {},
     "output_type": "execute_result"
    }
   ],
   "source": [
    "df.columns"
   ]
  },
  {
   "cell_type": "code",
   "execution_count": 69,
   "id": "28f596b4",
   "metadata": {},
   "outputs": [
    {
     "name": "stdout",
     "output_type": "stream",
     "text": [
      "country: \n",
      " country\n",
      "Afghanistan    1\n",
      "Morocco        1\n",
      "Myanmar        1\n",
      "Namibia        1\n",
      "Nepal          1\n",
      "              ..\n",
      "Georgia        1\n",
      "Germany        1\n",
      "Ghana          1\n",
      "Greece         1\n",
      "Zambia         1\n",
      "Name: count, Length: 167, dtype: int64\n",
      "\n",
      "child_mort: \n",
      " child_mort\n",
      "4.5      4\n",
      "3.2      3\n",
      "24.1     3\n",
      "4.2      3\n",
      "111.0    3\n",
      "        ..\n",
      "55.2     1\n",
      "19.2     1\n",
      "29.1     1\n",
      "25.1     1\n",
      "83.1     1\n",
      "Name: count, Length: 139, dtype: int64\n",
      "\n",
      "exports: \n",
      " exports\n",
      "23.8    3\n",
      "35.0    3\n",
      "37.0    2\n",
      "12.4    2\n",
      "14.9    2\n",
      "       ..\n",
      "85.8    1\n",
      "21.3    1\n",
      "27.9    1\n",
      "22.7    1\n",
      "30.0    1\n",
      "Name: count, Length: 147, dtype: int64\n",
      "\n",
      "health: \n",
      " health\n",
      "5.07    3\n",
      "5.20    3\n",
      "6.91    2\n",
      "9.01    2\n",
      "5.25    2\n",
      "       ..\n",
      "2.66    1\n",
      "4.48    1\n",
      "4.66    1\n",
      "8.06    1\n",
      "5.89    1\n",
      "Name: count, Length: 147, dtype: int64\n",
      "\n",
      "imports: \n",
      " imports\n",
      "28.0    2\n",
      "49.6    2\n",
      "26.8    2\n",
      "51.3    2\n",
      "63.6    2\n",
      "       ..\n",
      "68.7    1\n",
      "23.3    1\n",
      "46.6    1\n",
      "26.6    1\n",
      "30.9    1\n",
      "Name: count, Length: 151, dtype: int64\n",
      "\n",
      "income: \n",
      " income\n",
      "28300    2\n",
      "36200    2\n",
      "1390     2\n",
      "28700    2\n",
      "15400    2\n",
      "        ..\n",
      "1660     1\n",
      "6730     1\n",
      "40400    1\n",
      "3060     1\n",
      "3280     1\n",
      "Name: count, Length: 156, dtype: int64\n",
      "\n",
      "inflation: \n",
      " inflation\n",
      "16.600    3\n",
      "12.500    2\n",
      "12.100    2\n",
      "5.470     2\n",
      "2.010     2\n",
      "         ..\n",
      "4.300     1\n",
      "8.550     1\n",
      "0.758     1\n",
      "0.673     1\n",
      "14.000    1\n",
      "Name: count, Length: 156, dtype: int64\n",
      "\n",
      "life_expec: \n",
      " life_expec\n",
      "76.3    3\n",
      "74.5    3\n",
      "76.4    3\n",
      "79.5    3\n",
      "70.4    3\n",
      "       ..\n",
      "60.9    1\n",
      "70.5    1\n",
      "77.5    1\n",
      "79.9    1\n",
      "52.0    1\n",
      "Name: count, Length: 127, dtype: int64\n",
      "\n",
      "total_fer: \n",
      " total_fer\n",
      "1.57    4\n",
      "1.92    4\n",
      "2.60    3\n",
      "2.17    3\n",
      "1.39    3\n",
      "       ..\n",
      "4.08    1\n",
      "2.03    1\n",
      "1.72    1\n",
      "4.61    1\n",
      "5.40    1\n",
      "Name: count, Length: 138, dtype: int64\n",
      "\n",
      "gdpp: \n",
      " gdpp\n",
      "1310     4\n",
      "13500    2\n",
      "9070     2\n",
      "10700    2\n",
      "2970     2\n",
      "        ..\n",
      "8750     1\n",
      "562      1\n",
      "2960     1\n",
      "41800    1\n",
      "1460     1\n",
      "Name: count, Length: 157, dtype: int64\n",
      "\n"
     ]
    }
   ],
   "source": [
    "for col in df.columns:\n",
    "    print (f\"{col}: \\n {df[col].value_counts()}\\n\")"
   ]
  },
  {
   "cell_type": "code",
   "execution_count": 70,
   "id": "9a1c7644",
   "metadata": {},
   "outputs": [
    {
     "name": "stdout",
     "output_type": "stream",
     "text": [
      "                 country  child_mort  exports  health  imports  income  \\\n",
      "0            Afghanistan        90.2     10.0    7.58     44.9    1610   \n",
      "1                Albania        16.6     28.0    6.55     48.6    9930   \n",
      "2                Algeria        27.3     38.4    4.17     31.4   12900   \n",
      "3                 Angola       119.0     62.3    2.85     42.9    5900   \n",
      "4    Antigua and Barbuda        10.3     45.5    6.03     58.9   19100   \n",
      "..                   ...         ...      ...     ...      ...     ...   \n",
      "162              Vanuatu        29.2     46.6    5.25     52.7    2950   \n",
      "163            Venezuela        17.1     28.5    4.91     17.6   16500   \n",
      "164              Vietnam        23.3     72.0    6.84     80.2    4490   \n",
      "165                Yemen        56.3     30.0    5.18     34.4    4480   \n",
      "166               Zambia        83.1     37.0    5.89     30.9    3280   \n",
      "\n",
      "     inflation  life_expec  total_fer   gdpp  Country Names  \n",
      "0         9.44        56.2       5.82    553              0  \n",
      "1         4.49        76.3       1.65   4090              1  \n",
      "2        16.10        76.5       2.89   4460              2  \n",
      "3        22.40        60.1       6.16   3530              3  \n",
      "4         1.44        76.8       2.13  12200              4  \n",
      "..         ...         ...        ...    ...            ...  \n",
      "162       2.62        63.0       3.50   2970            162  \n",
      "163      45.90        75.4       2.47  13500            163  \n",
      "164      12.10        73.1       1.95   1310            164  \n",
      "165      23.60        67.5       4.67   1310            165  \n",
      "166      14.00        52.0       5.40   1460            166  \n",
      "\n",
      "[167 rows x 11 columns]\n"
     ]
    }
   ],
   "source": [
    "df['country'] = df['country'].astype('category')\n",
    "df['Country Names'] = df['country'].cat.codes\n",
    "print(df)"
   ]
  },
  {
   "cell_type": "code",
   "execution_count": 71,
   "id": "05eca28a",
   "metadata": {},
   "outputs": [
    {
     "data": {
      "text/html": [
       "<div>\n",
       "<style scoped>\n",
       "    .dataframe tbody tr th:only-of-type {\n",
       "        vertical-align: middle;\n",
       "    }\n",
       "\n",
       "    .dataframe tbody tr th {\n",
       "        vertical-align: top;\n",
       "    }\n",
       "\n",
       "    .dataframe thead th {\n",
       "        text-align: right;\n",
       "    }\n",
       "</style>\n",
       "<table border=\"1\" class=\"dataframe\">\n",
       "  <thead>\n",
       "    <tr style=\"text-align: right;\">\n",
       "      <th></th>\n",
       "      <th>country</th>\n",
       "      <th>child_mort</th>\n",
       "      <th>exports</th>\n",
       "      <th>health</th>\n",
       "      <th>imports</th>\n",
       "      <th>income</th>\n",
       "      <th>inflation</th>\n",
       "      <th>life_expec</th>\n",
       "      <th>total_fer</th>\n",
       "      <th>gdpp</th>\n",
       "      <th>Country Names</th>\n",
       "    </tr>\n",
       "  </thead>\n",
       "  <tbody>\n",
       "    <tr>\n",
       "      <th>0</th>\n",
       "      <td>Afghanistan</td>\n",
       "      <td>90.2</td>\n",
       "      <td>10.0</td>\n",
       "      <td>7.58</td>\n",
       "      <td>44.9</td>\n",
       "      <td>1610</td>\n",
       "      <td>9.44</td>\n",
       "      <td>56.2</td>\n",
       "      <td>5.82</td>\n",
       "      <td>553</td>\n",
       "      <td>0</td>\n",
       "    </tr>\n",
       "    <tr>\n",
       "      <th>1</th>\n",
       "      <td>Albania</td>\n",
       "      <td>16.6</td>\n",
       "      <td>28.0</td>\n",
       "      <td>6.55</td>\n",
       "      <td>48.6</td>\n",
       "      <td>9930</td>\n",
       "      <td>4.49</td>\n",
       "      <td>76.3</td>\n",
       "      <td>1.65</td>\n",
       "      <td>4090</td>\n",
       "      <td>1</td>\n",
       "    </tr>\n",
       "    <tr>\n",
       "      <th>2</th>\n",
       "      <td>Algeria</td>\n",
       "      <td>27.3</td>\n",
       "      <td>38.4</td>\n",
       "      <td>4.17</td>\n",
       "      <td>31.4</td>\n",
       "      <td>12900</td>\n",
       "      <td>16.10</td>\n",
       "      <td>76.5</td>\n",
       "      <td>2.89</td>\n",
       "      <td>4460</td>\n",
       "      <td>2</td>\n",
       "    </tr>\n",
       "    <tr>\n",
       "      <th>3</th>\n",
       "      <td>Angola</td>\n",
       "      <td>119.0</td>\n",
       "      <td>62.3</td>\n",
       "      <td>2.85</td>\n",
       "      <td>42.9</td>\n",
       "      <td>5900</td>\n",
       "      <td>22.40</td>\n",
       "      <td>60.1</td>\n",
       "      <td>6.16</td>\n",
       "      <td>3530</td>\n",
       "      <td>3</td>\n",
       "    </tr>\n",
       "    <tr>\n",
       "      <th>4</th>\n",
       "      <td>Antigua and Barbuda</td>\n",
       "      <td>10.3</td>\n",
       "      <td>45.5</td>\n",
       "      <td>6.03</td>\n",
       "      <td>58.9</td>\n",
       "      <td>19100</td>\n",
       "      <td>1.44</td>\n",
       "      <td>76.8</td>\n",
       "      <td>2.13</td>\n",
       "      <td>12200</td>\n",
       "      <td>4</td>\n",
       "    </tr>\n",
       "    <tr>\n",
       "      <th>...</th>\n",
       "      <td>...</td>\n",
       "      <td>...</td>\n",
       "      <td>...</td>\n",
       "      <td>...</td>\n",
       "      <td>...</td>\n",
       "      <td>...</td>\n",
       "      <td>...</td>\n",
       "      <td>...</td>\n",
       "      <td>...</td>\n",
       "      <td>...</td>\n",
       "      <td>...</td>\n",
       "    </tr>\n",
       "    <tr>\n",
       "      <th>162</th>\n",
       "      <td>Vanuatu</td>\n",
       "      <td>29.2</td>\n",
       "      <td>46.6</td>\n",
       "      <td>5.25</td>\n",
       "      <td>52.7</td>\n",
       "      <td>2950</td>\n",
       "      <td>2.62</td>\n",
       "      <td>63.0</td>\n",
       "      <td>3.50</td>\n",
       "      <td>2970</td>\n",
       "      <td>162</td>\n",
       "    </tr>\n",
       "    <tr>\n",
       "      <th>163</th>\n",
       "      <td>Venezuela</td>\n",
       "      <td>17.1</td>\n",
       "      <td>28.5</td>\n",
       "      <td>4.91</td>\n",
       "      <td>17.6</td>\n",
       "      <td>16500</td>\n",
       "      <td>45.90</td>\n",
       "      <td>75.4</td>\n",
       "      <td>2.47</td>\n",
       "      <td>13500</td>\n",
       "      <td>163</td>\n",
       "    </tr>\n",
       "    <tr>\n",
       "      <th>164</th>\n",
       "      <td>Vietnam</td>\n",
       "      <td>23.3</td>\n",
       "      <td>72.0</td>\n",
       "      <td>6.84</td>\n",
       "      <td>80.2</td>\n",
       "      <td>4490</td>\n",
       "      <td>12.10</td>\n",
       "      <td>73.1</td>\n",
       "      <td>1.95</td>\n",
       "      <td>1310</td>\n",
       "      <td>164</td>\n",
       "    </tr>\n",
       "    <tr>\n",
       "      <th>165</th>\n",
       "      <td>Yemen</td>\n",
       "      <td>56.3</td>\n",
       "      <td>30.0</td>\n",
       "      <td>5.18</td>\n",
       "      <td>34.4</td>\n",
       "      <td>4480</td>\n",
       "      <td>23.60</td>\n",
       "      <td>67.5</td>\n",
       "      <td>4.67</td>\n",
       "      <td>1310</td>\n",
       "      <td>165</td>\n",
       "    </tr>\n",
       "    <tr>\n",
       "      <th>166</th>\n",
       "      <td>Zambia</td>\n",
       "      <td>83.1</td>\n",
       "      <td>37.0</td>\n",
       "      <td>5.89</td>\n",
       "      <td>30.9</td>\n",
       "      <td>3280</td>\n",
       "      <td>14.00</td>\n",
       "      <td>52.0</td>\n",
       "      <td>5.40</td>\n",
       "      <td>1460</td>\n",
       "      <td>166</td>\n",
       "    </tr>\n",
       "  </tbody>\n",
       "</table>\n",
       "<p>167 rows × 11 columns</p>\n",
       "</div>"
      ],
      "text/plain": [
       "                 country  child_mort  exports  health  imports  income  \\\n",
       "0            Afghanistan        90.2     10.0    7.58     44.9    1610   \n",
       "1                Albania        16.6     28.0    6.55     48.6    9930   \n",
       "2                Algeria        27.3     38.4    4.17     31.4   12900   \n",
       "3                 Angola       119.0     62.3    2.85     42.9    5900   \n",
       "4    Antigua and Barbuda        10.3     45.5    6.03     58.9   19100   \n",
       "..                   ...         ...      ...     ...      ...     ...   \n",
       "162              Vanuatu        29.2     46.6    5.25     52.7    2950   \n",
       "163            Venezuela        17.1     28.5    4.91     17.6   16500   \n",
       "164              Vietnam        23.3     72.0    6.84     80.2    4490   \n",
       "165                Yemen        56.3     30.0    5.18     34.4    4480   \n",
       "166               Zambia        83.1     37.0    5.89     30.9    3280   \n",
       "\n",
       "     inflation  life_expec  total_fer   gdpp  Country Names  \n",
       "0         9.44        56.2       5.82    553              0  \n",
       "1         4.49        76.3       1.65   4090              1  \n",
       "2        16.10        76.5       2.89   4460              2  \n",
       "3        22.40        60.1       6.16   3530              3  \n",
       "4         1.44        76.8       2.13  12200              4  \n",
       "..         ...         ...        ...    ...            ...  \n",
       "162       2.62        63.0       3.50   2970            162  \n",
       "163      45.90        75.4       2.47  13500            163  \n",
       "164      12.10        73.1       1.95   1310            164  \n",
       "165      23.60        67.5       4.67   1310            165  \n",
       "166      14.00        52.0       5.40   1460            166  \n",
       "\n",
       "[167 rows x 11 columns]"
      ]
     },
     "execution_count": 71,
     "metadata": {},
     "output_type": "execute_result"
    }
   ],
   "source": [
    "df"
   ]
  },
  {
   "cell_type": "code",
   "execution_count": 73,
   "id": "ee842fae",
   "metadata": {},
   "outputs": [
    {
     "data": {
      "text/html": [
       "<div>\n",
       "<style scoped>\n",
       "    .dataframe tbody tr th:only-of-type {\n",
       "        vertical-align: middle;\n",
       "    }\n",
       "\n",
       "    .dataframe tbody tr th {\n",
       "        vertical-align: top;\n",
       "    }\n",
       "\n",
       "    .dataframe thead th {\n",
       "        text-align: right;\n",
       "    }\n",
       "</style>\n",
       "<table border=\"1\" class=\"dataframe\">\n",
       "  <thead>\n",
       "    <tr style=\"text-align: right;\">\n",
       "      <th></th>\n",
       "      <th>child_mort</th>\n",
       "      <th>exports</th>\n",
       "      <th>health</th>\n",
       "      <th>imports</th>\n",
       "      <th>income</th>\n",
       "      <th>inflation</th>\n",
       "      <th>life_expec</th>\n",
       "      <th>total_fer</th>\n",
       "      <th>gdpp</th>\n",
       "      <th>Country Names</th>\n",
       "    </tr>\n",
       "  </thead>\n",
       "  <tbody>\n",
       "    <tr>\n",
       "      <th>0</th>\n",
       "      <td>90.2</td>\n",
       "      <td>10.0</td>\n",
       "      <td>7.58</td>\n",
       "      <td>44.9</td>\n",
       "      <td>1610</td>\n",
       "      <td>9.44</td>\n",
       "      <td>56.2</td>\n",
       "      <td>5.82</td>\n",
       "      <td>553</td>\n",
       "      <td>0</td>\n",
       "    </tr>\n",
       "    <tr>\n",
       "      <th>1</th>\n",
       "      <td>16.6</td>\n",
       "      <td>28.0</td>\n",
       "      <td>6.55</td>\n",
       "      <td>48.6</td>\n",
       "      <td>9930</td>\n",
       "      <td>4.49</td>\n",
       "      <td>76.3</td>\n",
       "      <td>1.65</td>\n",
       "      <td>4090</td>\n",
       "      <td>1</td>\n",
       "    </tr>\n",
       "    <tr>\n",
       "      <th>2</th>\n",
       "      <td>27.3</td>\n",
       "      <td>38.4</td>\n",
       "      <td>4.17</td>\n",
       "      <td>31.4</td>\n",
       "      <td>12900</td>\n",
       "      <td>16.10</td>\n",
       "      <td>76.5</td>\n",
       "      <td>2.89</td>\n",
       "      <td>4460</td>\n",
       "      <td>2</td>\n",
       "    </tr>\n",
       "    <tr>\n",
       "      <th>3</th>\n",
       "      <td>119.0</td>\n",
       "      <td>62.3</td>\n",
       "      <td>2.85</td>\n",
       "      <td>42.9</td>\n",
       "      <td>5900</td>\n",
       "      <td>22.40</td>\n",
       "      <td>60.1</td>\n",
       "      <td>6.16</td>\n",
       "      <td>3530</td>\n",
       "      <td>3</td>\n",
       "    </tr>\n",
       "    <tr>\n",
       "      <th>4</th>\n",
       "      <td>10.3</td>\n",
       "      <td>45.5</td>\n",
       "      <td>6.03</td>\n",
       "      <td>58.9</td>\n",
       "      <td>19100</td>\n",
       "      <td>1.44</td>\n",
       "      <td>76.8</td>\n",
       "      <td>2.13</td>\n",
       "      <td>12200</td>\n",
       "      <td>4</td>\n",
       "    </tr>\n",
       "    <tr>\n",
       "      <th>...</th>\n",
       "      <td>...</td>\n",
       "      <td>...</td>\n",
       "      <td>...</td>\n",
       "      <td>...</td>\n",
       "      <td>...</td>\n",
       "      <td>...</td>\n",
       "      <td>...</td>\n",
       "      <td>...</td>\n",
       "      <td>...</td>\n",
       "      <td>...</td>\n",
       "    </tr>\n",
       "    <tr>\n",
       "      <th>162</th>\n",
       "      <td>29.2</td>\n",
       "      <td>46.6</td>\n",
       "      <td>5.25</td>\n",
       "      <td>52.7</td>\n",
       "      <td>2950</td>\n",
       "      <td>2.62</td>\n",
       "      <td>63.0</td>\n",
       "      <td>3.50</td>\n",
       "      <td>2970</td>\n",
       "      <td>162</td>\n",
       "    </tr>\n",
       "    <tr>\n",
       "      <th>163</th>\n",
       "      <td>17.1</td>\n",
       "      <td>28.5</td>\n",
       "      <td>4.91</td>\n",
       "      <td>17.6</td>\n",
       "      <td>16500</td>\n",
       "      <td>45.90</td>\n",
       "      <td>75.4</td>\n",
       "      <td>2.47</td>\n",
       "      <td>13500</td>\n",
       "      <td>163</td>\n",
       "    </tr>\n",
       "    <tr>\n",
       "      <th>164</th>\n",
       "      <td>23.3</td>\n",
       "      <td>72.0</td>\n",
       "      <td>6.84</td>\n",
       "      <td>80.2</td>\n",
       "      <td>4490</td>\n",
       "      <td>12.10</td>\n",
       "      <td>73.1</td>\n",
       "      <td>1.95</td>\n",
       "      <td>1310</td>\n",
       "      <td>164</td>\n",
       "    </tr>\n",
       "    <tr>\n",
       "      <th>165</th>\n",
       "      <td>56.3</td>\n",
       "      <td>30.0</td>\n",
       "      <td>5.18</td>\n",
       "      <td>34.4</td>\n",
       "      <td>4480</td>\n",
       "      <td>23.60</td>\n",
       "      <td>67.5</td>\n",
       "      <td>4.67</td>\n",
       "      <td>1310</td>\n",
       "      <td>165</td>\n",
       "    </tr>\n",
       "    <tr>\n",
       "      <th>166</th>\n",
       "      <td>83.1</td>\n",
       "      <td>37.0</td>\n",
       "      <td>5.89</td>\n",
       "      <td>30.9</td>\n",
       "      <td>3280</td>\n",
       "      <td>14.00</td>\n",
       "      <td>52.0</td>\n",
       "      <td>5.40</td>\n",
       "      <td>1460</td>\n",
       "      <td>166</td>\n",
       "    </tr>\n",
       "  </tbody>\n",
       "</table>\n",
       "<p>167 rows × 10 columns</p>\n",
       "</div>"
      ],
      "text/plain": [
       "     child_mort  exports  health  imports  income  inflation  life_expec  \\\n",
       "0          90.2     10.0    7.58     44.9    1610       9.44        56.2   \n",
       "1          16.6     28.0    6.55     48.6    9930       4.49        76.3   \n",
       "2          27.3     38.4    4.17     31.4   12900      16.10        76.5   \n",
       "3         119.0     62.3    2.85     42.9    5900      22.40        60.1   \n",
       "4          10.3     45.5    6.03     58.9   19100       1.44        76.8   \n",
       "..          ...      ...     ...      ...     ...        ...         ...   \n",
       "162        29.2     46.6    5.25     52.7    2950       2.62        63.0   \n",
       "163        17.1     28.5    4.91     17.6   16500      45.90        75.4   \n",
       "164        23.3     72.0    6.84     80.2    4490      12.10        73.1   \n",
       "165        56.3     30.0    5.18     34.4    4480      23.60        67.5   \n",
       "166        83.1     37.0    5.89     30.9    3280      14.00        52.0   \n",
       "\n",
       "     total_fer   gdpp  Country Names  \n",
       "0         5.82    553              0  \n",
       "1         1.65   4090              1  \n",
       "2         2.89   4460              2  \n",
       "3         6.16   3530              3  \n",
       "4         2.13  12200              4  \n",
       "..         ...    ...            ...  \n",
       "162       3.50   2970            162  \n",
       "163       2.47  13500            163  \n",
       "164       1.95   1310            164  \n",
       "165       4.67   1310            165  \n",
       "166       5.40   1460            166  \n",
       "\n",
       "[167 rows x 10 columns]"
      ]
     },
     "execution_count": 73,
     "metadata": {},
     "output_type": "execute_result"
    }
   ],
   "source": [
    "df.drop(['country'], axis = 1, inplace = True)\n",
    "df"
   ]
  },
  {
   "cell_type": "code",
   "execution_count": 74,
   "id": "708015aa",
   "metadata": {},
   "outputs": [],
   "source": [
    "scaler = StandardScaler()\n",
    "df_mortscaled = scaler.fit_transform(df.drop(columns = ['child_mort']))"
   ]
  },
  {
   "cell_type": "code",
   "execution_count": 75,
   "id": "b6d17f93",
   "metadata": {},
   "outputs": [],
   "source": [
    "pca = PCA(n_components = 2)\n",
    "df_mortpca = pca.fit_transform(df_mortscaled)"
   ]
  },
  {
   "cell_type": "code",
   "execution_count": 76,
   "id": "d00f7196",
   "metadata": {},
   "outputs": [],
   "source": [
    "df_mortscaled_pca = pd.DataFrame(df_mortpca)"
   ]
  },
  {
   "cell_type": "code",
   "execution_count": 77,
   "id": "2aa2c7ee",
   "metadata": {},
   "outputs": [
    {
     "data": {
      "text/plain": [
       "<Axes: xlabel='0', ylabel='1'>"
      ]
     },
     "execution_count": 77,
     "metadata": {},
     "output_type": "execute_result"
    },
    {
     "data": {
      "image/png": "[encoded data removed]",
      "text/plain": [
       "<Figure size 640x480 with 1 Axes>"
      ]
     },
     "metadata": {},
     "output_type": "display_data"
    }
   ],
   "source": [
    "sns.scatterplot(x = df_mortscaled_pca[0] , y = df_mortscaled_pca[1])"
   ]
  },
  {
   "cell_type": "code",
   "execution_count": 78,
   "id": "08274942",
   "metadata": {},
   "outputs": [
    {
     "data": {
      "text/plain": [
       "<Axes: xlabel='0', ylabel='1'>"
      ]
     },
     "execution_count": 78,
     "metadata": {},
     "output_type": "execute_result"
    },
    {
     "data": {
      "image/png": "[encoded data removed]",
      "text/plain": [
       "<Figure size 640x480 with 1 Axes>"
      ]
     },
     "metadata": {},
     "output_type": "display_data"
    }
   ],
   "source": [
    "sns.scatterplot(x = df_mortscaled_pca[0] , y = df_mortscaled_pca[1] , hue = df.child_mort)"
   ]
  },
  {
   "cell_type": "code",
   "execution_count": 79,
   "id": "b4d2e2cd",
   "metadata": {},
   "outputs": [
    {
     "name": "stderr",
     "output_type": "stream",
     "text": [
      "C:\\Users\\mercn\\anaconda3\\Lib\\site-packages\\sklearn\\cluster\\_kmeans.py:1412: FutureWarning:\n",
      "\n",
      "The default value of `n_init` will change from 10 to 'auto' in 1.4. Set the value of `n_init` explicitly to suppress the warning\n",
      "\n",
      "C:\\Users\\mercn\\anaconda3\\Lib\\site-packages\\sklearn\\cluster\\_kmeans.py:1436: UserWarning:\n",
      "\n",
      "KMeans is known to have a memory leak on Windows with MKL, when there are less chunks than available threads. You can avoid it by setting the environment variable OMP_NUM_THREADS=1.\n",
      "\n",
      "C:\\Users\\mercn\\anaconda3\\Lib\\site-packages\\sklearn\\cluster\\_kmeans.py:1412: FutureWarning:\n",
      "\n",
      "The default value of `n_init` will change from 10 to 'auto' in 1.4. Set the value of `n_init` explicitly to suppress the warning\n",
      "\n",
      "C:\\Users\\mercn\\anaconda3\\Lib\\site-packages\\sklearn\\cluster\\_kmeans.py:1436: UserWarning:\n",
      "\n",
      "KMeans is known to have a memory leak on Windows with MKL, when there are less chunks than available threads. You can avoid it by setting the environment variable OMP_NUM_THREADS=1.\n",
      "\n",
      "C:\\Users\\mercn\\anaconda3\\Lib\\site-packages\\sklearn\\cluster\\_kmeans.py:1412: FutureWarning:\n",
      "\n",
      "The default value of `n_init` will change from 10 to 'auto' in 1.4. Set the value of `n_init` explicitly to suppress the warning\n",
      "\n",
      "C:\\Users\\mercn\\anaconda3\\Lib\\site-packages\\sklearn\\cluster\\_kmeans.py:1436: UserWarning:\n",
      "\n",
      "KMeans is known to have a memory leak on Windows with MKL, when there are less chunks than available threads. You can avoid it by setting the environment variable OMP_NUM_THREADS=1.\n",
      "\n",
      "C:\\Users\\mercn\\anaconda3\\Lib\\site-packages\\sklearn\\cluster\\_kmeans.py:1412: FutureWarning:\n",
      "\n",
      "The default value of `n_init` will change from 10 to 'auto' in 1.4. Set the value of `n_init` explicitly to suppress the warning\n",
      "\n",
      "C:\\Users\\mercn\\anaconda3\\Lib\\site-packages\\sklearn\\cluster\\_kmeans.py:1436: UserWarning:\n",
      "\n",
      "KMeans is known to have a memory leak on Windows with MKL, when there are less chunks than available threads. You can avoid it by setting the environment variable OMP_NUM_THREADS=1.\n",
      "\n",
      "C:\\Users\\mercn\\anaconda3\\Lib\\site-packages\\sklearn\\cluster\\_kmeans.py:1412: FutureWarning:\n",
      "\n",
      "The default value of `n_init` will change from 10 to 'auto' in 1.4. Set the value of `n_init` explicitly to suppress the warning\n",
      "\n",
      "C:\\Users\\mercn\\anaconda3\\Lib\\site-packages\\sklearn\\cluster\\_kmeans.py:1436: UserWarning:\n",
      "\n",
      "KMeans is known to have a memory leak on Windows with MKL, when there are less chunks than available threads. You can avoid it by setting the environment variable OMP_NUM_THREADS=1.\n",
      "\n",
      "C:\\Users\\mercn\\anaconda3\\Lib\\site-packages\\sklearn\\cluster\\_kmeans.py:1412: FutureWarning:\n",
      "\n",
      "The default value of `n_init` will change from 10 to 'auto' in 1.4. Set the value of `n_init` explicitly to suppress the warning\n",
      "\n",
      "C:\\Users\\mercn\\anaconda3\\Lib\\site-packages\\sklearn\\cluster\\_kmeans.py:1436: UserWarning:\n",
      "\n",
      "KMeans is known to have a memory leak on Windows with MKL, when there are less chunks than available threads. You can avoid it by setting the environment variable OMP_NUM_THREADS=1.\n",
      "\n",
      "C:\\Users\\mercn\\anaconda3\\Lib\\site-packages\\sklearn\\cluster\\_kmeans.py:1412: FutureWarning:\n",
      "\n",
      "The default value of `n_init` will change from 10 to 'auto' in 1.4. Set the value of `n_init` explicitly to suppress the warning\n",
      "\n",
      "C:\\Users\\mercn\\anaconda3\\Lib\\site-packages\\sklearn\\cluster\\_kmeans.py:1436: UserWarning:\n",
      "\n",
      "KMeans is known to have a memory leak on Windows with MKL, when there are less chunks than available threads. You can avoid it by setting the environment variable OMP_NUM_THREADS=1.\n",
      "\n"
     ]
    }
   ],
   "source": [
    "inertia = []\n",
    "for k in range(1 , 8):\n",
    "    kmeans = KMeans(n_clusters = k , random_state = 1).fit(df_mortscaled)\n",
    "    inertia.append(np.sqrt(kmeans.inertia_))"
   ]
  },
  {
   "cell_type": "code",
   "execution_count": 80,
   "id": "9b1411df",
   "metadata": {},
   "outputs": [
    {
     "data": {
      "text/plain": [
       "Text(0, 0.5, 'Variance')"
      ]
     },
     "execution_count": 80,
     "metadata": {},
     "output_type": "execute_result"
    },
    {
     "data": {
      "image/png": "[encoded data removed]",
      "text/plain": [
       "<Figure size 640x480 with 1 Axes>"
      ]
     },
     "metadata": {},
     "output_type": "display_data"
    }
   ],
   "source": [
    "plt.plot(range(1 , 8) , inertia , marker = 's');\n",
    "plt.xlabel('Number of Clusters')\n",
    "plt.ylabel('Variance')"
   ]
  },
  {
   "cell_type": "code",
   "execution_count": 81,
   "id": "7104d117",
   "metadata": {},
   "outputs": [],
   "source": [
    "kmeans = KMeans(n_clusters = 2 , random_state = 1)"
   ]
  },
  {
   "cell_type": "code",
   "execution_count": 82,
   "id": "1f8ad35b",
   "metadata": {},
   "outputs": [
    {
     "name": "stderr",
     "output_type": "stream",
     "text": [
      "C:\\Users\\mercn\\anaconda3\\Lib\\site-packages\\sklearn\\cluster\\_kmeans.py:1412: FutureWarning:\n",
      "\n",
      "The default value of `n_init` will change from 10 to 'auto' in 1.4. Set the value of `n_init` explicitly to suppress the warning\n",
      "\n",
      "C:\\Users\\mercn\\anaconda3\\Lib\\site-packages\\sklearn\\cluster\\_kmeans.py:1436: UserWarning:\n",
      "\n",
      "KMeans is known to have a memory leak on Windows with MKL, when there are less chunks than available threads. You can avoid it by setting the environment variable OMP_NUM_THREADS=1.\n",
      "\n"
     ]
    }
   ],
   "source": [
    "y = kmeans.fit_predict(df_mortscaled)"
   ]
  },
  {
   "cell_type": "code",
   "execution_count": 83,
   "id": "52aa39c9",
   "metadata": {},
   "outputs": [
    {
     "data": {
      "text/plain": [
       "<Axes: xlabel='0', ylabel='1'>"
      ]
     },
     "execution_count": 83,
     "metadata": {},
     "output_type": "execute_result"
    },
    {
     "data": {
      "image/png": "[encoded data removed]",
      "text/plain": [
       "<Figure size 640x480 with 1 Axes>"
      ]
     },
     "metadata": {},
     "output_type": "display_data"
    }
   ],
   "source": [
    "sns.scatterplot(x = df_mortscaled_pca[0] , y = df_mortscaled_pca[1] , hue = y)"
   ]
  },
  {
   "cell_type": "code",
   "execution_count": 84,
   "id": "48c2f2d3",
   "metadata": {},
   "outputs": [
    {
     "data": {
      "text/html": [
       "<div>\n",
       "<style scoped>\n",
       "    .dataframe tbody tr th:only-of-type {\n",
       "        vertical-align: middle;\n",
       "    }\n",
       "\n",
       "    .dataframe tbody tr th {\n",
       "        vertical-align: top;\n",
       "    }\n",
       "\n",
       "    .dataframe thead th {\n",
       "        text-align: right;\n",
       "    }\n",
       "</style>\n",
       "<table border=\"1\" class=\"dataframe\">\n",
       "  <thead>\n",
       "    <tr style=\"text-align: right;\">\n",
       "      <th></th>\n",
       "      <th>0</th>\n",
       "      <th>1</th>\n",
       "    </tr>\n",
       "  </thead>\n",
       "  <tbody>\n",
       "    <tr>\n",
       "      <th>0</th>\n",
       "      <td>-2.583639</td>\n",
       "      <td>-0.130785</td>\n",
       "    </tr>\n",
       "    <tr>\n",
       "      <th>1</th>\n",
       "      <td>0.092250</td>\n",
       "      <td>-0.603871</td>\n",
       "    </tr>\n",
       "    <tr>\n",
       "      <th>2</th>\n",
       "      <td>-0.553131</td>\n",
       "      <td>-0.410629</td>\n",
       "    </tr>\n",
       "    <tr>\n",
       "      <th>3</th>\n",
       "      <td>-2.226330</td>\n",
       "      <td>1.422848</td>\n",
       "    </tr>\n",
       "    <tr>\n",
       "      <th>4</th>\n",
       "      <td>0.746286</td>\n",
       "      <td>0.033237</td>\n",
       "    </tr>\n",
       "    <tr>\n",
       "      <th>...</th>\n",
       "      <td>...</td>\n",
       "      <td>...</td>\n",
       "    </tr>\n",
       "    <tr>\n",
       "      <th>162</th>\n",
       "      <td>-0.930608</td>\n",
       "      <td>1.032223</td>\n",
       "    </tr>\n",
       "    <tr>\n",
       "      <th>163</th>\n",
       "      <td>-0.897758</td>\n",
       "      <td>-0.669585</td>\n",
       "    </tr>\n",
       "    <tr>\n",
       "      <th>164</th>\n",
       "      <td>0.437007</td>\n",
       "      <td>1.750498</td>\n",
       "    </tr>\n",
       "    <tr>\n",
       "      <th>165</th>\n",
       "      <td>-1.826231</td>\n",
       "      <td>0.300030</td>\n",
       "    </tr>\n",
       "    <tr>\n",
       "      <th>166</th>\n",
       "      <td>-2.502755</td>\n",
       "      <td>0.734965</td>\n",
       "    </tr>\n",
       "  </tbody>\n",
       "</table>\n",
       "<p>167 rows × 2 columns</p>\n",
       "</div>"
      ],
      "text/plain": [
       "            0         1\n",
       "0   -2.583639 -0.130785\n",
       "1    0.092250 -0.603871\n",
       "2   -0.553131 -0.410629\n",
       "3   -2.226330  1.422848\n",
       "4    0.746286  0.033237\n",
       "..        ...       ...\n",
       "162 -0.930608  1.032223\n",
       "163 -0.897758 -0.669585\n",
       "164  0.437007  1.750498\n",
       "165 -1.826231  0.300030\n",
       "166 -2.502755  0.734965\n",
       "\n",
       "[167 rows x 2 columns]"
      ]
     },
     "execution_count": 84,
     "metadata": {},
     "output_type": "execute_result"
    }
   ],
   "source": [
    "df_mortscaled_pca"
   ]
  },
  {
   "cell_type": "code",
   "execution_count": 85,
   "id": "a83b8b26",
   "metadata": {},
   "outputs": [],
   "source": [
    "cluster_df = pd.DataFrame(y , columns = ['Cluster'])\n",
    "new_df = pd.concat([cluster_df, df] , axis = 1)"
   ]
  },
  {
   "cell_type": "code",
   "execution_count": 86,
   "id": "21858f6d",
   "metadata": {},
   "outputs": [
    {
     "data": {
      "text/html": [
       "<div>\n",
       "<style scoped>\n",
       "    .dataframe tbody tr th:only-of-type {\n",
       "        vertical-align: middle;\n",
       "    }\n",
       "\n",
       "    .dataframe tbody tr th {\n",
       "        vertical-align: top;\n",
       "    }\n",
       "\n",
       "    .dataframe thead th {\n",
       "        text-align: right;\n",
       "    }\n",
       "</style>\n",
       "<table border=\"1\" class=\"dataframe\">\n",
       "  <thead>\n",
       "    <tr style=\"text-align: right;\">\n",
       "      <th></th>\n",
       "      <th>Cluster</th>\n",
       "      <th>child_mort</th>\n",
       "      <th>exports</th>\n",
       "      <th>health</th>\n",
       "      <th>imports</th>\n",
       "      <th>income</th>\n",
       "      <th>inflation</th>\n",
       "      <th>life_expec</th>\n",
       "      <th>total_fer</th>\n",
       "      <th>gdpp</th>\n",
       "      <th>Country Names</th>\n",
       "    </tr>\n",
       "  </thead>\n",
       "  <tbody>\n",
       "    <tr>\n",
       "      <th>0</th>\n",
       "      <td>0</td>\n",
       "      <td>90.2</td>\n",
       "      <td>10.0</td>\n",
       "      <td>7.58</td>\n",
       "      <td>44.9</td>\n",
       "      <td>1610</td>\n",
       "      <td>9.44</td>\n",
       "      <td>56.2</td>\n",
       "      <td>5.82</td>\n",
       "      <td>553</td>\n",
       "      <td>0</td>\n",
       "    </tr>\n",
       "    <tr>\n",
       "      <th>1</th>\n",
       "      <td>0</td>\n",
       "      <td>16.6</td>\n",
       "      <td>28.0</td>\n",
       "      <td>6.55</td>\n",
       "      <td>48.6</td>\n",
       "      <td>9930</td>\n",
       "      <td>4.49</td>\n",
       "      <td>76.3</td>\n",
       "      <td>1.65</td>\n",
       "      <td>4090</td>\n",
       "      <td>1</td>\n",
       "    </tr>\n",
       "    <tr>\n",
       "      <th>2</th>\n",
       "      <td>0</td>\n",
       "      <td>27.3</td>\n",
       "      <td>38.4</td>\n",
       "      <td>4.17</td>\n",
       "      <td>31.4</td>\n",
       "      <td>12900</td>\n",
       "      <td>16.10</td>\n",
       "      <td>76.5</td>\n",
       "      <td>2.89</td>\n",
       "      <td>4460</td>\n",
       "      <td>2</td>\n",
       "    </tr>\n",
       "    <tr>\n",
       "      <th>3</th>\n",
       "      <td>0</td>\n",
       "      <td>119.0</td>\n",
       "      <td>62.3</td>\n",
       "      <td>2.85</td>\n",
       "      <td>42.9</td>\n",
       "      <td>5900</td>\n",
       "      <td>22.40</td>\n",
       "      <td>60.1</td>\n",
       "      <td>6.16</td>\n",
       "      <td>3530</td>\n",
       "      <td>3</td>\n",
       "    </tr>\n",
       "    <tr>\n",
       "      <th>4</th>\n",
       "      <td>1</td>\n",
       "      <td>10.3</td>\n",
       "      <td>45.5</td>\n",
       "      <td>6.03</td>\n",
       "      <td>58.9</td>\n",
       "      <td>19100</td>\n",
       "      <td>1.44</td>\n",
       "      <td>76.8</td>\n",
       "      <td>2.13</td>\n",
       "      <td>12200</td>\n",
       "      <td>4</td>\n",
       "    </tr>\n",
       "    <tr>\n",
       "      <th>...</th>\n",
       "      <td>...</td>\n",
       "      <td>...</td>\n",
       "      <td>...</td>\n",
       "      <td>...</td>\n",
       "      <td>...</td>\n",
       "      <td>...</td>\n",
       "      <td>...</td>\n",
       "      <td>...</td>\n",
       "      <td>...</td>\n",
       "      <td>...</td>\n",
       "      <td>...</td>\n",
       "    </tr>\n",
       "    <tr>\n",
       "      <th>162</th>\n",
       "      <td>0</td>\n",
       "      <td>29.2</td>\n",
       "      <td>46.6</td>\n",
       "      <td>5.25</td>\n",
       "      <td>52.7</td>\n",
       "      <td>2950</td>\n",
       "      <td>2.62</td>\n",
       "      <td>63.0</td>\n",
       "      <td>3.50</td>\n",
       "      <td>2970</td>\n",
       "      <td>162</td>\n",
       "    </tr>\n",
       "    <tr>\n",
       "      <th>163</th>\n",
       "      <td>0</td>\n",
       "      <td>17.1</td>\n",
       "      <td>28.5</td>\n",
       "      <td>4.91</td>\n",
       "      <td>17.6</td>\n",
       "      <td>16500</td>\n",
       "      <td>45.90</td>\n",
       "      <td>75.4</td>\n",
       "      <td>2.47</td>\n",
       "      <td>13500</td>\n",
       "      <td>163</td>\n",
       "    </tr>\n",
       "    <tr>\n",
       "      <th>164</th>\n",
       "      <td>1</td>\n",
       "      <td>23.3</td>\n",
       "      <td>72.0</td>\n",
       "      <td>6.84</td>\n",
       "      <td>80.2</td>\n",
       "      <td>4490</td>\n",
       "      <td>12.10</td>\n",
       "      <td>73.1</td>\n",
       "      <td>1.95</td>\n",
       "      <td>1310</td>\n",
       "      <td>164</td>\n",
       "    </tr>\n",
       "    <tr>\n",
       "      <th>165</th>\n",
       "      <td>0</td>\n",
       "      <td>56.3</td>\n",
       "      <td>30.0</td>\n",
       "      <td>5.18</td>\n",
       "      <td>34.4</td>\n",
       "      <td>4480</td>\n",
       "      <td>23.60</td>\n",
       "      <td>67.5</td>\n",
       "      <td>4.67</td>\n",
       "      <td>1310</td>\n",
       "      <td>165</td>\n",
       "    </tr>\n",
       "    <tr>\n",
       "      <th>166</th>\n",
       "      <td>0</td>\n",
       "      <td>83.1</td>\n",
       "      <td>37.0</td>\n",
       "      <td>5.89</td>\n",
       "      <td>30.9</td>\n",
       "      <td>3280</td>\n",
       "      <td>14.00</td>\n",
       "      <td>52.0</td>\n",
       "      <td>5.40</td>\n",
       "      <td>1460</td>\n",
       "      <td>166</td>\n",
       "    </tr>\n",
       "  </tbody>\n",
       "</table>\n",
       "<p>167 rows × 11 columns</p>\n",
       "</div>"
      ],
      "text/plain": [
       "     Cluster  child_mort  exports  health  imports  income  inflation  \\\n",
       "0          0        90.2     10.0    7.58     44.9    1610       9.44   \n",
       "1          0        16.6     28.0    6.55     48.6    9930       4.49   \n",
       "2          0        27.3     38.4    4.17     31.4   12900      16.10   \n",
       "3          0       119.0     62.3    2.85     42.9    5900      22.40   \n",
       "4          1        10.3     45.5    6.03     58.9   19100       1.44   \n",
       "..       ...         ...      ...     ...      ...     ...        ...   \n",
       "162        0        29.2     46.6    5.25     52.7    2950       2.62   \n",
       "163        0        17.1     28.5    4.91     17.6   16500      45.90   \n",
       "164        1        23.3     72.0    6.84     80.2    4490      12.10   \n",
       "165        0        56.3     30.0    5.18     34.4    4480      23.60   \n",
       "166        0        83.1     37.0    5.89     30.9    3280      14.00   \n",
       "\n",
       "     life_expec  total_fer   gdpp  Country Names  \n",
       "0          56.2       5.82    553              0  \n",
       "1          76.3       1.65   4090              1  \n",
       "2          76.5       2.89   4460              2  \n",
       "3          60.1       6.16   3530              3  \n",
       "4          76.8       2.13  12200              4  \n",
       "..          ...        ...    ...            ...  \n",
       "162        63.0       3.50   2970            162  \n",
       "163        75.4       2.47  13500            163  \n",
       "164        73.1       1.95   1310            164  \n",
       "165        67.5       4.67   1310            165  \n",
       "166        52.0       5.40   1460            166  \n",
       "\n",
       "[167 rows x 11 columns]"
      ]
     },
     "execution_count": 86,
     "metadata": {},
     "output_type": "execute_result"
    }
   ],
   "source": [
    "new_df"
   ]
  },
  {
   "cell_type": "code",
   "execution_count": 87,
   "id": "efe2152b",
   "metadata": {},
   "outputs": [
    {
     "data": {
      "application/vnd.plotly.v1+json": {
       "config": {
        "plotlyServerURL": "https://plot.ly"
       },
       "data": [
        {
         "customdata": [
          [
           7.58,
           1610,
           56.2,
           0
          ],
          [
           6.55,
           9930,
           76.3,
           1
          ],
          [
           4.17,
           12900,
           76.5,
           2
          ],
          [
           2.85,
           5900,
           60.1,
           3
          ],
          [
           6.03,
           19100,
           76.8,
           4
          ],
          [
           8.1,
           18700,
           75.8,
           5
          ],
          [
           4.4,
           6700,
           73.3,
           6
          ],
          [
           8.73,
           41400,
           82,
           7
          ],
          [
           11,
           43200,
           80.5,
           8
          ],
          [
           5.88,
           16000,
           69.1,
           9
          ],
          [
           7.89,
           22900,
           73.8,
           10
          ],
          [
           4.97,
           41100,
           76,
           11
          ],
          [
           3.52,
           2440,
           70.4,
           12
          ],
          [
           7.97,
           15300,
           76.7,
           13
          ],
          [
           5.61,
           16200,
           70.4,
           14
          ],
          [
           10.7,
           41100,
           80,
           15
          ],
          [
           5.2,
           7880,
           71.4,
           16
          ],
          [
           4.1,
           1820,
           61.8,
           17
          ],
          [
           5.2,
           6420,
           72.1,
           18
          ],
          [
           4.84,
           5410,
           71.6,
           19
          ],
          [
           11.1,
           9720,
           76.8,
           20
          ],
          [
           8.3,
           13300,
           57.1,
           21
          ],
          [
           9.01,
           14500,
           74.2,
           22
          ],
          [
           2.84,
           80600,
           77.1,
           23
          ],
          [
           6.87,
           15300,
           73.9,
           24
          ],
          [
           6.74,
           1430,
           57.9,
           25
          ],
          [
           11.6,
           764,
           57.7,
           26
          ],
          [
           5.68,
           2520,
           66.1,
           27
          ],
          [
           5.13,
           2660,
           57.3,
           28
          ],
          [
           11.3,
           40700,
           81.3,
           29
          ],
          [
           4.09,
           5830,
           72.5,
           30
          ],
          [
           3.98,
           888,
           47.5,
           31
          ],
          [
           4.53,
           1930,
           56.5,
           32
          ],
          [
           7.96,
           19400,
           79.1,
           33
          ],
          [
           5.07,
           9530,
           74.6,
           34
          ],
          [
           7.59,
           10900,
           76.4,
           35
          ],
          [
           4.51,
           1410,
           65.9,
           36
          ],
          [
           7.91,
           609,
           57.5,
           37
          ],
          [
           2.46,
           5190,
           60.4,
           38
          ],
          [
           10.9,
           13000,
           80.4,
           39
          ],
          [
           5.3,
           2690,
           56.3,
           40
          ],
          [
           7.76,
           20100,
           76.3,
           41
          ],
          [
           5.97,
           33900,
           79.9,
           42
          ],
          [
           7.88,
           28300,
           77.5,
           43
          ],
          [
           11.4,
           44000,
           79.5,
           44
          ],
          [
           6.22,
           11100,
           74.6,
           45
          ],
          [
           8.06,
           9350,
           76.7,
           46
          ],
          [
           4.66,
           9860,
           70.5,
           47
          ],
          [
           6.91,
           7300,
           74.1,
           48
          ],
          [
           4.48,
           33700,
           60.9,
           49
          ],
          [
           2.66,
           1420,
           61.7,
           50
          ],
          [
           6.03,
           22700,
           76,
           51
          ],
          [
           4.86,
           7350,
           65.3,
           52
          ],
          [
           8.95,
           39800,
           80,
           53
          ],
          [
           11.9,
           36900,
           81.4,
           54
          ],
          [
           3.5,
           15400,
           62.9,
           55
          ],
          [
           5.69,
           1660,
           65.5,
           56
          ],
          [
           10.1,
           6730,
           72.8,
           57
          ],
          [
           11.6,
           40400,
           80.1,
           58
          ],
          [
           5.22,
           3060,
           62.2,
           59
          ],
          [
           10.3,
           28700,
           80.4,
           60
          ],
          [
           5.86,
           11200,
           71.3,
           61
          ],
          [
           6.85,
           6710,
           71.3,
           62
          ],
          [
           4.93,
           1190,
           58,
           63
          ],
          [
           8.5,
           1390,
           55.6,
           64
          ],
          [
           5.38,
           5840,
           65.5,
           65
          ],
          [
           6.91,
           1500,
           32.1,
           66
          ],
          [
           7.33,
           22300,
           74.5,
           67
          ],
          [
           9.4,
           38800,
           82,
           68
          ],
          [
           4.05,
           4410,
           66.2,
           69
          ],
          [
           2.61,
           8430,
           69.9,
           70
          ],
          [
           5.6,
           17400,
           74.5,
           71
          ],
          [
           8.41,
           12700,
           67.2,
           72
          ],
          [
           9.19,
           45700,
           80.4,
           73
          ],
          [
           7.63,
           29600,
           81.4,
           74
          ],
          [
           9.53,
           36200,
           81.7,
           75
          ],
          [
           4.81,
           8000,
           74.7,
           76
          ],
          [
           9.49,
           35800,
           82.8,
           77
          ],
          [
           8.04,
           9470,
           75.8,
           78
          ],
          [
           4.29,
           20100,
           68.4,
           79
          ],
          [
           4.75,
           2480,
           62.8,
           80
          ],
          [
           11.3,
           1730,
           60.7,
           81
          ],
          [
           2.63,
           75200,
           78.2,
           82
          ],
          [
           6.18,
           2790,
           68.5,
           83
          ],
          [
           4.47,
           3980,
           63.8,
           84
          ],
          [
           6.68,
           18300,
           73.1,
           85
          ],
          [
           7.03,
           16300,
           79.8,
           86
          ],
          [
           11.1,
           2380,
           46.5,
           87
          ],
          [
           11.8,
           700,
           60.8,
           88
          ],
          [
           3.88,
           29600,
           76.1,
           89
          ],
          [
           7.04,
           21100,
           73.2,
           90
          ],
          [
           7.77,
           91700,
           81.3,
           91
          ],
          [
           7.09,
           11400,
           74,
           92
          ],
          [
           3.77,
           1390,
           60.8,
           93
          ],
          [
           6.59,
           1030,
           53.1,
           94
          ],
          [
           4.39,
           21100,
           74.5,
           95
          ],
          [
           6.33,
           10500,
           77.9,
           96
          ],
          [
           4.98,
           1870,
           59.5,
           97
          ],
          [
           8.65,
           28300,
           80.3,
           98
          ],
          [
           4.41,
           3320,
           68.2,
           99
          ],
          [
           6,
           15900,
           73.4,
           100
          ],
          [
           14.2,
           3340,
           65.4,
           101
          ],
          [
           11.7,
           3910,
           69.7,
           102
          ],
          [
           5.44,
           7710,
           66.2,
           103
          ],
          [
           9.11,
           14000,
           76.4,
           104
          ],
          [
           5.2,
           6440,
           73.5,
           105
          ],
          [
           5.21,
           918,
           54.5,
           106
          ],
          [
           1.97,
           3720,
           66.8,
           107
          ],
          [
           6.78,
           8460,
           58.6,
           108
          ],
          [
           5.25,
           1990,
           68.3,
           109
          ],
          [
           11.9,
           45500,
           80.7,
           110
          ],
          [
           10.1,
           32300,
           80.9,
           111
          ],
          [
           5.16,
           814,
           58.8,
           112
          ],
          [
           5.07,
           5150,
           60.5,
           113
          ],
          [
           9.48,
           62300,
           81,
           114
          ],
          [
           2.77,
           45300,
           76.1,
           115
          ],
          [
           2.2,
           4280,
           65.3,
           116
          ],
          [
           8.1,
           15400,
           77.8,
           117
          ],
          [
           5.87,
           7290,
           74.1,
           118
          ],
          [
           5.08,
           9960,
           77.9,
           119
          ],
          [
           3.61,
           5600,
           69,
           120
          ],
          [
           7.46,
           21800,
           76.3,
           121
          ],
          [
           11,
           27200,
           79.8,
           122
          ],
          [
           1.81,
           125000,
           79.5,
           123
          ],
          [
           5.58,
           17800,
           73.7,
           124
          ],
          [
           5.08,
           23100,
           69.2,
           125
          ],
          [
           10.5,
           1350,
           64.6,
           126
          ],
          [
           6.47,
           5400,
           71.5,
           127
          ],
          [
           4.29,
           45400,
           75.1,
           128
          ],
          [
           5.66,
           2180,
           64,
           129
          ],
          [
           10.4,
           12700,
           74.7,
           130
          ],
          [
           3.4,
           20400,
           73.4,
           131
          ],
          [
           13.1,
           1220,
           55,
           132
          ],
          [
           3.96,
           72100,
           82.7,
           133
          ],
          [
           8.79,
           25200,
           75.5,
           134
          ],
          [
           9.41,
           28700,
           79.5,
           135
          ],
          [
           8.55,
           1780,
           61.7,
           136
          ],
          [
           8.94,
           12000,
           54.3,
           137
          ],
          [
           6.93,
           30400,
           80.1,
           138
          ],
          [
           9.54,
           32500,
           81.9,
           139
          ],
          [
           2.94,
           8560,
           74.4,
           140
          ],
          [
           4.47,
           9920,
           71.6,
           141
          ],
          [
           6.32,
           3370,
           66.3,
           142
          ],
          [
           7.01,
           14200,
           70.3,
           143
          ],
          [
           9.63,
           42900,
           81.5,
           144
          ],
          [
           11.5,
           55500,
           82.2,
           145
          ],
          [
           5.98,
           2110,
           69.6,
           146
          ],
          [
           6.01,
           2090,
           59.3,
           147
          ],
          [
           3.88,
           13500,
           76.6,
           148
          ],
          [
           9.12,
           1850,
           71.1,
           149
          ],
          [
           7.65,
           1210,
           58.7,
           150
          ],
          [
           5.07,
           4980,
           69.9,
           151
          ],
          [
           6.21,
           10400,
           76.9,
           152
          ],
          [
           6.74,
           18000,
           78.2,
           153
          ],
          [
           2.5,
           9940,
           67.9,
           154
          ],
          [
           9.01,
           1540,
           56.8,
           155
          ],
          [
           7.72,
           7820,
           70.4,
           156
          ],
          [
           3.66,
           57600,
           76.5,
           157
          ],
          [
           9.64,
           36200,
           80.3,
           158
          ],
          [
           17.9,
           49400,
           78.7,
           159
          ],
          [
           8.35,
           17100,
           76.4,
           160
          ],
          [
           5.81,
           4240,
           68.8,
           161
          ],
          [
           5.25,
           2950,
           63,
           162
          ],
          [
           4.91,
           16500,
           75.4,
           163
          ],
          [
           6.84,
           4490,
           73.1,
           164
          ],
          [
           5.18,
           4480,
           67.5,
           165
          ],
          [
           5.89,
           3280,
           52,
           166
          ]
         ],
         "hovertemplate": "0=%{x}<br>1=%{y}<br>health=%{customdata[0]}<br>income=%{customdata[1]}<br>life_expec=%{customdata[2]}<br>Country Names=%{customdata[3]}<br>Cluster=%{marker.color}<extra></extra>",
         "legendgroup": "",
         "marker": {
          "color": [
           0,
           0,
           0,
           0,
           1,
           0,
           0,
           1,
           1,
           0,
           1,
           1,
           0,
           1,
           0,
           1,
           0,
           0,
           0,
           0,
           1,
           0,
           0,
           1,
           1,
           0,
           0,
           0,
           0,
           1,
           0,
           0,
           0,
           1,
           0,
           0,
           0,
           0,
           0,
           1,
           0,
           1,
           1,
           1,
           1,
           0,
           0,
           0,
           0,
           0,
           0,
           1,
           0,
           1,
           1,
           0,
           0,
           0,
           1,
           0,
           1,
           0,
           0,
           0,
           0,
           0,
           0,
           1,
           1,
           0,
           0,
           0,
           0,
           1,
           1,
           1,
           0,
           1,
           0,
           0,
           0,
           0,
           1,
           0,
           0,
           1,
           1,
           0,
           0,
           1,
           1,
           1,
           1,
           0,
           0,
           1,
           1,
           0,
           1,
           0,
           1,
           0,
           1,
           0,
           1,
           0,
           0,
           0,
           0,
           0,
           1,
           1,
           0,
           0,
           1,
           1,
           0,
           1,
           0,
           0,
           0,
           1,
           1,
           1,
           1,
           0,
           0,
           0,
           1,
           0,
           1,
           1,
           0,
           1,
           1,
           1,
           0,
           0,
           1,
           1,
           0,
           0,
           0,
           0,
           1,
           1,
           0,
           0,
           1,
           0,
           0,
           0,
           1,
           1,
           0,
           0,
           0,
           1,
           1,
           1,
           1,
           0,
           0,
           0,
           1,
           0,
           0
          ],
          "coloraxis": "coloraxis",
          "symbol": "circle"
         },
         "mode": "markers",
         "name": "",
         "orientation": "v",
         "showlegend": false,
         "type": "scatter",
         "x": [
          -2.5836391108270598,
          0.09225028980988599,
          -0.5531314145341504,
          -2.2263297039011847,
          0.7462863048311029,
          -0.3940749577278474,
          -0.4787500877130834,
          2.0898371991459497,
          2.843729524034673,
          -0.2802505615297235,
          1.0481221665971852,
          1.4802207731026327,
          -1.25663376425015,
          0.824195583188922,
          0.21127170235853493,
          3.1079067972184333,
          -0.02471907485551591,
          -2.106123448571015,
          -0.16981127386664224,
          -0.8540223520363242,
          0.6166310752823541,
          -0.7846617062875764,
          -0.2164502356684057,
          2.3801237295242403,
          0.610470368232274,
          -2.521201652598486,
          -2.5138213072246076,
          -0.5812463660811519,
          -2.2829387536052215,
          2.3498183285517364,
          -0.366097783640279,
          -3.0556087965386522,
          -2.546572445495635,
          0.5957386699348025,
          -0.34278795859850236,
          -0.24634322294591865,
          -1.7430205581032983,
          -2.501581976002217,
          -1.5053578948585724,
          0.5898681924936275,
          -1.9314829065580486,
          0.7944720716569256,
          1.9524338395100003,
          1.8400753919927642,
          2.9245747687741552,
          -0.39935696754288114,
          -0.24328654364985802,
          -1.1231096914935375,
          -0.21690460440177656,
          -0.42648334444166247,
          -2.573551841433274,
          1.438505174853794,
          -0.3533216234125364,
          2.2648199398315962,
          2.0218838637809182,
          -1.2565394269428198,
          -1.9306453685345355,
          0.03930767864287255,
          2.505659500424362,
          -1.829191250261938,
          1.461491912545491,
          -0.17419498067665545,
          -0.8188635794105061,
          -2.4005396127350123,
          -2.210992218276664,
          -0.32851909789404055,
          -2.770389725224265,
          1.6747504033577614,
          2.3108737976495304,
          -1.3161579404165875,
          -1.201823512330275,
          -0.3377609858000498,
          -1.1293621571291765,
          3.768934290534086,
          1.2067322034515602,
          1.9046412687496947,
          -0.2815693649379526,
          1.980812311984282,
          -0.006909814487579077,
          -0.5429074235389527,
          -1.7906284331630897,
          -1.026046766576011,
          2.4276749100908015,
          -0.43168515640403704,
          -1.2127263085852358,
          0.9322189250269054,
          0.902820573998117,
          -1.114168684730077,
          -1.2537011824856088,
          0.6438748975749753,
          1.194315883834147,
          7.582309233060579,
          0.43805971109104996,
          -2.0431103493715725,
          -2.6038099643947943,
          1.0527442633635735,
          0.9407745099499211,
          -2.5408932524034786,
          3.90226402863382,
          -1.401968461041379,
          0.7082287024714023,
          -0.34094183969104497,
          0.311848947611777,
          -1.1637587005057126,
          0.7345759745357544,
          -0.3601536035350078,
          -2.3885998299593343,
          -1.8478460837781898,
          -0.8537231362465184,
          -1.40334034577118,
          3.406945137022741,
          1.5872199641751648,
          -2.6913571640178384,
          -4.307999574144326,
          3.7462196608896905,
          0.9733066852097692,
          -2.0162109702969397,
          1.1147576230532827,
          -0.035103425978876446,
          -0.31565458070246977,
          -0.9511322762651713,
          0.9238108019640069,
          1.5455288919090728,
          4.442890116087535,
          0.2699230916284976,
          -0.1988859031065972,
          -1.545908365313464,
          -0.8136353046303609,
          0.7070799558583288,
          -1.7252924428251832,
          0.5170098048901149,
          1.6183325164265885,
          -2.2352625163817397,
          6.31577459203395,
          1.9373016523396756,
          2.1345835837483276,
          -0.8742648057308905,
          -1.0913495509901454,
          1.694517229003941,
          1.762948618035335,
          -1.0267398440073536,
          -0.18848886428179137,
          -2.102090006947693,
          0.0425897766031876,
          2.729415206653737,
          4.207766541008466,
          -1.1981682184419187,
          -2.3555975849705244,
          0.7536176529633113,
          -2.3046639046353117,
          -1.4787419814351008,
          -1.0452914601608108,
          0.4166635337490696,
          0.15272289060092029,
          -0.17822142664773627,
          -2.54682232026627,
          0.022346849849429824,
          2.4369561642502426,
          1.8853783194318536,
          2.547209065921463,
          0.31232661316666205,
          -0.989922140228053,
          -0.9306081786942896,
          -0.8977580306078906,
          0.43700729564226637,
          -1.8262313608017504,
          -2.5027548272610347
         ],
         "xaxis": "x",
         "y": [
          -0.13078487793933757,
          -0.6038710598391861,
          -0.4106291467378046,
          1.422848377240247,
          0.033237056799955075,
          -1.780084224120345,
          -0.46574254189576014,
          -2.4517424280877522,
          -1.2862240293841032,
          -0.48145082966258046,
          -0.9134149529532994,
          0.35687639403138843,
          -0.9084487428511301,
          -0.633000987334532,
          0.6145039743252795,
          0.1234782145532687,
          0.709578343685419,
          0.15468750628681432,
          0.7319549900837036,
          -0.1233980714462249,
          -1.0412429421923575,
          0.28754501979865454,
          -2.1961529829633846,
          -0.33845827924215593,
          0.0033676421674892552,
          -0.24598568934699208,
          -0.6855580367446538,
          0.8710491898809762,
          -0.1571563231505486,
          -2.1860658292326374,
          0.4276631716915975,
          0.04085438328571862,
          0.8869493606412765,
          -1.1001441538247598,
          -1.048559470803441,
          -1.7264095624914433,
          0.23089622319897704,
          0.8058523271182018,
          2.2228528161705747,
          -1.3957858247412385,
          0.9590015886793524,
          -0.8770800084946239,
          -0.1844487628541488,
          0.2581927101578479,
          -1.3942110281953342,
          -0.8521890915147587,
          -1.0048333138234002,
          -0.6542207605759829,
          -0.47111273671984977,
          1.9426133887013315,
          -0.40742532843636925,
          0.9868495100901251,
          1.185390626468797,
          -1.413982031811131,
          -2.2155958875309896,
          0.31707509330295686,
          0.169416062307821,
          -0.45124283054401965,
          -1.655465592391037,
          0.4164455549490191,
          -1.9258736529974396,
          -0.3031987346948853,
          -0.5244583002636735,
          0.6426793956648842,
          -0.3348600752257974,
          1.4448868260830512,
          1.1300589404003119,
          1.2379288093215555,
          -0.9118764271026686,
          -0.4083026827808646,
          -0.4481140118668469,
          -1.1346565997399902,
          -0.2015324831963564,
          1.2565647743243826,
          -1.1423554401594918,
          -1.976184897158088,
          0.0012492569638945818,
          -2.676050247623244,
          0.6484339435257293,
          -0.018956876669332105,
          -0.06327527438658063,
          0.28151655256762914,
          -0.14244526753353376,
          1.4869765050195725,
          0.5841915995412191,
          0.24516300269048094,
          -0.15574362109897968,
          1.7879612835740237,
          0.8644510017511645,
          0.5233618210390227,
          0.8006307166555422,
          3.790731511423236,
          0.0871424519302175,
          0.5459543704532922,
          0.2560520770838523,
          1.762380815641158,
          1.1452794414226115,
          0.37438897978242475,
          4.5484516380953846,
          1.3964725098366242,
          0.5615209191564449,
          0.06453217624277696,
          0.3103310350606089,
          0.9426845327807694,
          -0.11530261367287697,
          -0.07349479177459298,
          0.9070239540523494,
          -1.3280213473185076,
          1.0612903928953992,
          -0.4865028328541471,
          -0.27974267539176695,
          -1.6785884531860744,
          0.8772908091290116,
          0.27755823188948375,
          -1.9960710036548135,
          0.6277817164827328,
          -0.3131412024681247,
          1.1948261411296726,
          0.6133418512128067,
          -0.7777556632601501,
          0.235702492547234,
          -0.4957263033539283,
          -1.456863933776222,
          -0.7600221036023836,
          -0.3681468134629445,
          -0.7371419050922553,
          -0.9225818294804345,
          0.2888324710530971,
          -0.04102329085654569,
          0.2631692280151951,
          -0.6496221180546033,
          3.087435451080411,
          -0.583724206719253,
          6.221253212991089,
          1.0927621004914567,
          0.18947080937805602,
          1.5727559968574076,
          -0.4426779849522255,
          -0.3169935218792909,
          -1.7828104283283635,
          -0.4136364164286505,
          0.3386530613743282,
          -0.5340726146623297,
          0.14520472746522894,
          -1.1125821355069594,
          -0.9237750244393902,
          0.284159122926704,
          0.032638171855121044,
          1.1684863800392091,
          -0.8927835038567579,
          1.0008839599166126,
          0.3551947750760657,
          0.4934695959400984,
          -1.1227383963914122,
          1.4919623694646618,
          -0.18829660691567915,
          0.3059439371375305,
          1.1712500527412688,
          -1.560147530277573,
          -3.347198346312213,
          -1.144185404791461,
          -0.22225415611011487,
          1.0322226695239305,
          -0.66958526608756,
          1.7504979785871793,
          0.3000298695374958,
          0.7349654328552092
         ],
         "yaxis": "y"
        }
       ],
       "layout": {
        "coloraxis": {
         "colorbar": {
          "title": {
           "text": "Cluster"
          }
         },
         "colorscale": [
          [
           0,
           "#0d0887"
          ],
          [
           0.1111111111111111,
           "#46039f"
          ],
          [
           0.2222222222222222,
           "#7201a8"
          ],
          [
           0.3333333333333333,
           "#9c179e"
          ],
          [
           0.4444444444444444,
           "#bd3786"
          ],
          [
           0.5555555555555556,
           "#d8576b"
          ],
          [
           0.6666666666666666,
           "#ed7953"
          ],
          [
           0.7777777777777778,
           "#fb9f3a"
          ],
          [
           0.8888888888888888,
           "#fdca26"
          ],
          [
           1,
           "#f0f921"
          ]
         ]
        },
        "legend": {
         "tracegroupgap": 0
        },
        "margin": {
         "t": 60
        },
        "template": {
         "data": {
          "bar": [
           {
            "error_x": {
             "color": "#2a3f5f"
            },
            "error_y": {
             "color": "#2a3f5f"
            },
            "marker": {
             "line": {
              "color": "#E5ECF6",
              "width": 0.5
             },
             "pattern": {
              "fillmode": "overlay",
              "size": 10,
              "solidity": 0.2
             }
            },
            "type": "bar"
           }
          ],
          "barpolar": [
           {
            "marker": {
             "line": {
              "color": "#E5ECF6",
              "width": 0.5
             },
             "pattern": {
              "fillmode": "overlay",
              "size": 10,
              "solidity": 0.2
             }
            },
            "type": "barpolar"
           }
          ],
          "carpet": [
           {
            "aaxis": {
             "endlinecolor": "#2a3f5f",
             "gridcolor": "white",
             "linecolor": "white",
             "minorgridcolor": "white",
             "startlinecolor": "#2a3f5f"
            },
            "baxis": {
             "endlinecolor": "#2a3f5f",
             "gridcolor": "white",
             "linecolor": "white",
             "minorgridcolor": "white",
             "startlinecolor": "#2a3f5f"
            },
            "type": "carpet"
           }
          ],
          "choropleth": [
           {
            "colorbar": {
             "outlinewidth": 0,
             "ticks": ""
            },
            "type": "choropleth"
           }
          ],
          "contour": [
           {
            "colorbar": {
             "outlinewidth": 0,
             "ticks": ""
            },
            "colorscale": [
             [
              0,
              "#0d0887"
             ],
             [
              0.1111111111111111,
              "#46039f"
             ],
             [
              0.2222222222222222,
              "#7201a8"
             ],
             [
              0.3333333333333333,
              "#9c179e"
             ],
             [
              0.4444444444444444,
              "#bd3786"
             ],
             [
              0.5555555555555556,
              "#d8576b"
             ],
             [
              0.6666666666666666,
              "#ed7953"
             ],
             [
              0.7777777777777778,
              "#fb9f3a"
             ],
             [
              0.8888888888888888,
              "#fdca26"
             ],
             [
              1,
              "#f0f921"
             ]
            ],
            "type": "contour"
           }
          ],
          "contourcarpet": [
           {
            "colorbar": {
             "outlinewidth": 0,
             "ticks": ""
            },
            "type": "contourcarpet"
           }
          ],
          "heatmap": [
           {
            "colorbar": {
             "outlinewidth": 0,
             "ticks": ""
            },
            "colorscale": [
             [
              0,
              "#0d0887"
             ],
             [
              0.1111111111111111,
              "#46039f"
             ],
             [
              0.2222222222222222,
              "#7201a8"
             ],
             [
              0.3333333333333333,
              "#9c179e"
             ],
             [
              0.4444444444444444,
              "#bd3786"
             ],
             [
              0.5555555555555556,
              "#d8576b"
             ],
             [
              0.6666666666666666,
              "#ed7953"
             ],
             [
              0.7777777777777778,
              "#fb9f3a"
             ],
             [
              0.8888888888888888,
              "#fdca26"
             ],
             [
              1,
              "#f0f921"
             ]
            ],
            "type": "heatmap"
           }
          ],
          "heatmapgl": [
           {
            "colorbar": {
             "outlinewidth": 0,
             "ticks": ""
            },
            "colorscale": [
             [
              0,
              "#0d0887"
             ],
             [
              0.1111111111111111,
              "#46039f"
             ],
             [
              0.2222222222222222,
              "#7201a8"
             ],
             [
              0.3333333333333333,
              "#9c179e"
             ],
             [
              0.4444444444444444,
              "#bd3786"
             ],
             [
              0.5555555555555556,
              "#d8576b"
             ],
             [
              0.6666666666666666,
              "#ed7953"
             ],
             [
              0.7777777777777778,
              "#fb9f3a"
             ],
             [
              0.8888888888888888,
              "#fdca26"
             ],
             [
              1,
              "#f0f921"
             ]
            ],
            "type": "heatmapgl"
           }
          ],
          "histogram": [
           {
            "marker": {
             "pattern": {
              "fillmode": "overlay",
              "size": 10,
              "solidity": 0.2
             }
            },
            "type": "histogram"
           }
          ],
          "histogram2d": [
           {
            "colorbar": {
             "outlinewidth": 0,
             "ticks": ""
            },
            "colorscale": [
             [
              0,
              "#0d0887"
             ],
             [
              0.1111111111111111,
              "#46039f"
             ],
             [
              0.2222222222222222,
              "#7201a8"
             ],
             [
              0.3333333333333333,
              "#9c179e"
             ],
             [
              0.4444444444444444,
              "#bd3786"
             ],
             [
              0.5555555555555556,
              "#d8576b"
             ],
             [
              0.6666666666666666,
              "#ed7953"
             ],
             [
              0.7777777777777778,
              "#fb9f3a"
             ],
             [
              0.8888888888888888,
              "#fdca26"
             ],
             [
              1,
              "#f0f921"
             ]
            ],
            "type": "histogram2d"
           }
          ],
          "histogram2dcontour": [
           {
            "colorbar": {
             "outlinewidth": 0,
             "ticks": ""
            },
            "colorscale": [
             [
              0,
              "#0d0887"
             ],
             [
              0.1111111111111111,
              "#46039f"
             ],
             [
              0.2222222222222222,
              "#7201a8"
             ],
             [
              0.3333333333333333,
              "#9c179e"
             ],
             [
              0.4444444444444444,
              "#bd3786"
             ],
             [
              0.5555555555555556,
              "#d8576b"
             ],
             [
              0.6666666666666666,
              "#ed7953"
             ],
             [
              0.7777777777777778,
              "#fb9f3a"
             ],
             [
              0.8888888888888888,
              "#fdca26"
             ],
             [
              1,
              "#f0f921"
             ]
            ],
            "type": "histogram2dcontour"
           }
          ],
          "mesh3d": [
           {
            "colorbar": {
             "outlinewidth": 0,
             "ticks": ""
            },
            "type": "mesh3d"
           }
          ],
          "parcoords": [
           {
            "line": {
             "colorbar": {
              "outlinewidth": 0,
              "ticks": ""
             }
            },
            "type": "parcoords"
           }
          ],
          "pie": [
           {
            "automargin": true,
            "type": "pie"
           }
          ],
          "scatter": [
           {
            "fillpattern": {
             "fillmode": "overlay",
             "size": 10,
             "solidity": 0.2
            },
            "type": "scatter"
           }
          ],
          "scatter3d": [
           {
            "line": {
             "colorbar": {
              "outlinewidth": 0,
              "ticks": ""
             }
            },
            "marker": {
             "colorbar": {
              "outlinewidth": 0,
              "ticks": ""
             }
            },
            "type": "scatter3d"
           }
          ],
          "scattercarpet": [
           {
            "marker": {
             "colorbar": {
              "outlinewidth": 0,
              "ticks": ""
             }
            },
            "type": "scattercarpet"
           }
          ],
          "scattergeo": [
           {
            "marker": {
             "colorbar": {
              "outlinewidth": 0,
              "ticks": ""
             }
            },
            "type": "scattergeo"
           }
          ],
          "scattergl": [
           {
            "marker": {
             "colorbar": {
              "outlinewidth": 0,
              "ticks": ""
             }
            },
            "type": "scattergl"
           }
          ],
          "scattermapbox": [
           {
            "marker": {
             "colorbar": {
              "outlinewidth": 0,
              "ticks": ""
             }
            },
            "type": "scattermapbox"
           }
          ],
          "scatterpolar": [
           {
            "marker": {
             "colorbar": {
              "outlinewidth": 0,
              "ticks": ""
             }
            },
            "type": "scatterpolar"
           }
          ],
          "scatterpolargl": [
           {
            "marker": {
             "colorbar": {
              "outlinewidth": 0,
              "ticks": ""
             }
            },
            "type": "scatterpolargl"
           }
          ],
          "scatterternary": [
           {
            "marker": {
             "colorbar": {
              "outlinewidth": 0,
              "ticks": ""
             }
            },
            "type": "scatterternary"
           }
          ],
          "surface": [
           {
            "colorbar": {
             "outlinewidth": 0,
             "ticks": ""
            },
            "colorscale": [
             [
              0,
              "#0d0887"
             ],
             [
              0.1111111111111111,
              "#46039f"
             ],
             [
              0.2222222222222222,
              "#7201a8"
             ],
             [
              0.3333333333333333,
              "#9c179e"
             ],
             [
              0.4444444444444444,
              "#bd3786"
             ],
             [
              0.5555555555555556,
              "#d8576b"
             ],
             [
              0.6666666666666666,
              "#ed7953"
             ],
             [
              0.7777777777777778,
              "#fb9f3a"
             ],
             [
              0.8888888888888888,
              "#fdca26"
             ],
             [
              1,
              "#f0f921"
             ]
            ],
            "type": "surface"
           }
          ],
          "table": [
           {
            "cells": {
             "fill": {
              "color": "#EBF0F8"
             },
             "line": {
              "color": "white"
             }
            },
            "header": {
             "fill": {
              "color": "#C8D4E3"
             },
             "line": {
              "color": "white"
             }
            },
            "type": "table"
           }
          ]
         },
         "layout": {
          "annotationdefaults": {
           "arrowcolor": "#2a3f5f",
           "arrowhead": 0,
           "arrowwidth": 1
          },
          "autotypenumbers": "strict",
          "coloraxis": {
           "colorbar": {
            "outlinewidth": 0,
            "ticks": ""
           }
          },
          "colorscale": {
           "diverging": [
            [
             0,
             "#8e0152"
            ],
            [
             0.1,
             "#c51b7d"
            ],
            [
             0.2,
             "#de77ae"
            ],
            [
             0.3,
             "#f1b6da"
            ],
            [
             0.4,
             "#fde0ef"
            ],
            [
             0.5,
             "#f7f7f7"
            ],
            [
             0.6,
             "#e6f5d0"
            ],
            [
             0.7,
             "#b8e186"
            ],
            [
             0.8,
             "#7fbc41"
            ],
            [
             0.9,
             "#4d9221"
            ],
            [
             1,
             "#276419"
            ]
           ],
           "sequential": [
            [
             0,
             "#0d0887"
            ],
            [
             0.1111111111111111,
             "#46039f"
            ],
            [
             0.2222222222222222,
             "#7201a8"
            ],
            [
             0.3333333333333333,
             "#9c179e"
            ],
            [
             0.4444444444444444,
             "#bd3786"
            ],
            [
             0.5555555555555556,
             "#d8576b"
            ],
            [
             0.6666666666666666,
             "#ed7953"
            ],
            [
             0.7777777777777778,
             "#fb9f3a"
            ],
            [
             0.8888888888888888,
             "#fdca26"
            ],
            [
             1,
             "#f0f921"
            ]
           ],
           "sequentialminus": [
            [
             0,
             "#0d0887"
            ],
            [
             0.1111111111111111,
             "#46039f"
            ],
            [
             0.2222222222222222,
             "#7201a8"
            ],
            [
             0.3333333333333333,
             "#9c179e"
            ],
            [
             0.4444444444444444,
             "#bd3786"
            ],
            [
             0.5555555555555556,
             "#d8576b"
            ],
            [
             0.6666666666666666,
             "#ed7953"
            ],
            [
             0.7777777777777778,
             "#fb9f3a"
            ],
            [
             0.8888888888888888,
             "#fdca26"
            ],
            [
             1,
             "#f0f921"
            ]
           ]
          },
          "colorway": [
           "#636efa",
           "#EF553B",
           "#00cc96",
           "#ab63fa",
           "#FFA15A",
           "#19d3f3",
           "#FF6692",
           "#B6E880",
           "#FF97FF",
           "#FECB52"
          ],
          "font": {
           "color": "#2a3f5f"
          },
          "geo": {
           "bgcolor": "white",
           "lakecolor": "white",
           "landcolor": "#E5ECF6",
           "showlakes": true,
           "showland": true,
           "subunitcolor": "white"
          },
          "hoverlabel": {
           "align": "left"
          },
          "hovermode": "closest",
          "mapbox": {
           "style": "light"
          },
          "paper_bgcolor": "white",
          "plot_bgcolor": "#E5ECF6",
          "polar": {
           "angularaxis": {
            "gridcolor": "white",
            "linecolor": "white",
            "ticks": ""
           },
           "bgcolor": "#E5ECF6",
           "radialaxis": {
            "gridcolor": "white",
            "linecolor": "white",
            "ticks": ""
           }
          },
          "scene": {
           "xaxis": {
            "backgroundcolor": "#E5ECF6",
            "gridcolor": "white",
            "gridwidth": 2,
            "linecolor": "white",
            "showbackground": true,
            "ticks": "",
            "zerolinecolor": "white"
           },
           "yaxis": {
            "backgroundcolor": "#E5ECF6",
            "gridcolor": "white",
            "gridwidth": 2,
            "linecolor": "white",
            "showbackground": true,
            "ticks": "",
            "zerolinecolor": "white"
           },
           "zaxis": {
            "backgroundcolor": "#E5ECF6",
            "gridcolor": "white",
            "gridwidth": 2,
            "linecolor": "white",
            "showbackground": true,
            "ticks": "",
            "zerolinecolor": "white"
           }
          },
          "shapedefaults": {
           "line": {
            "color": "#2a3f5f"
           }
          },
          "ternary": {
           "aaxis": {
            "gridcolor": "white",
            "linecolor": "white",
            "ticks": ""
           },
           "baxis": {
            "gridcolor": "white",
            "linecolor": "white",
            "ticks": ""
           },
           "bgcolor": "#E5ECF6",
           "caxis": {
            "gridcolor": "white",
            "linecolor": "white",
            "ticks": ""
           }
          },
          "title": {
           "x": 0.05
          },
          "xaxis": {
           "automargin": true,
           "gridcolor": "white",
           "linecolor": "white",
           "ticks": "",
           "title": {
            "standoff": 15
           },
           "zerolinecolor": "white",
           "zerolinewidth": 2
          },
          "yaxis": {
           "automargin": true,
           "gridcolor": "white",
           "linecolor": "white",
           "ticks": "",
           "title": {
            "standoff": 15
           },
           "zerolinecolor": "white",
           "zerolinewidth": 2
          }
         }
        },
        "xaxis": {
         "anchor": "y",
         "domain": [
          0,
          1
         ],
         "title": {
          "text": "0"
         }
        },
        "yaxis": {
         "anchor": "x",
         "domain": [
          0,
          1
         ],
         "title": {
          "text": "1"
         }
        }
       }
      },
      "text/html": [
       "<div>                            <div id=\"c4695a65-8dbb-4b4d-a7bd-9935402c169f\" class=\"plotly-graph-div\" style=\"height:525px; width:100%;\"></div>            <script type=\"text/javascript\">                require([\"plotly\"], function(Plotly) {                    window.PLOTLYENV=window.PLOTLYENV || {};                                    if (document.getElementById(\"c4695a65-8dbb-4b4d-a7bd-9935402c169f\")) {                    Plotly.newPlot(                        \"c4695a65-8dbb-4b4d-a7bd-9935402c169f\",                        [{\"customdata\":[[7.58,1610.0,56.2,0.0],[6.55,9930.0,76.3,1.0],[4.17,12900.0,76.5,2.0],[2.85,5900.0,60.1,3.0],[6.03,19100.0,76.8,4.0],[8.1,18700.0,75.8,5.0],[4.4,6700.0,73.3,6.0],[8.73,41400.0,82.0,7.0],[11.0,43200.0,80.5,8.0],[5.88,16000.0,69.1,9.0],[7.89,22900.0,73.8,10.0],[4.97,41100.0,76.0,11.0],[3.52,2440.0,70.4,12.0],[7.97,15300.0,76.7,13.0],[5.61,16200.0,70.4,14.0],[10.7,41100.0,80.0,15.0],[5.2,7880.0,71.4,16.0],[4.1,1820.0,61.8,17.0],[5.2,6420.0,72.1,18.0],[4.84,5410.0,71.6,19.0],[11.1,9720.0,76.8,20.0],[8.3,13300.0,57.1,21.0],[9.01,14500.0,74.2,22.0],[2.84,80600.0,77.1,23.0],[6.87,15300.0,73.9,24.0],[6.74,1430.0,57.9,25.0],[11.6,764.0,57.7,26.0],[5.68,2520.0,66.1,27.0],[5.13,2660.0,57.3,28.0],[11.3,40700.0,81.3,29.0],[4.09,5830.0,72.5,30.0],[3.98,888.0,47.5,31.0],[4.53,1930.0,56.5,32.0],[7.96,19400.0,79.1,33.0],[5.07,9530.0,74.6,34.0],[7.59,10900.0,76.4,35.0],[4.51,1410.0,65.9,36.0],[7.91,609.0,57.5,37.0],[2.46,5190.0,60.4,38.0],[10.9,13000.0,80.4,39.0],[5.3,2690.0,56.3,40.0],[7.76,20100.0,76.3,41.0],[5.97,33900.0,79.9,42.0],[7.88,28300.0,77.5,43.0],[11.4,44000.0,79.5,44.0],[6.22,11100.0,74.6,45.0],[8.06,9350.0,76.7,46.0],[4.66,9860.0,70.5,47.0],[6.91,7300.0,74.1,48.0],[4.48,33700.0,60.9,49.0],[2.66,1420.0,61.7,50.0],[6.03,22700.0,76.0,51.0],[4.86,7350.0,65.3,52.0],[8.95,39800.0,80.0,53.0],[11.9,36900.0,81.4,54.0],[3.5,15400.0,62.9,55.0],[5.69,1660.0,65.5,56.0],[10.1,6730.0,72.8,57.0],[11.6,40400.0,80.1,58.0],[5.22,3060.0,62.2,59.0],[10.3,28700.0,80.4,60.0],[5.86,11200.0,71.3,61.0],[6.85,6710.0,71.3,62.0],[4.93,1190.0,58.0,63.0],[8.5,1390.0,55.6,64.0],[5.38,5840.0,65.5,65.0],[6.91,1500.0,32.1,66.0],[7.33,22300.0,74.5,67.0],[9.4,38800.0,82.0,68.0],[4.05,4410.0,66.2,69.0],[2.61,8430.0,69.9,70.0],[5.6,17400.0,74.5,71.0],[8.41,12700.0,67.2,72.0],[9.19,45700.0,80.4,73.0],[7.63,29600.0,81.4,74.0],[9.53,36200.0,81.7,75.0],[4.81,8000.0,74.7,76.0],[9.49,35800.0,82.8,77.0],[8.04,9470.0,75.8,78.0],[4.29,20100.0,68.4,79.0],[4.75,2480.0,62.8,80.0],[11.3,1730.0,60.7,81.0],[2.63,75200.0,78.2,82.0],[6.18,2790.0,68.5,83.0],[4.47,3980.0,63.8,84.0],[6.68,18300.0,73.1,85.0],[7.03,16300.0,79.8,86.0],[11.1,2380.0,46.5,87.0],[11.8,700.0,60.8,88.0],[3.88,29600.0,76.1,89.0],[7.04,21100.0,73.2,90.0],[7.77,91700.0,81.3,91.0],[7.09,11400.0,74.0,92.0],[3.77,1390.0,60.8,93.0],[6.59,1030.0,53.1,94.0],[4.39,21100.0,74.5,95.0],[6.33,10500.0,77.9,96.0],[4.98,1870.0,59.5,97.0],[8.65,28300.0,80.3,98.0],[4.41,3320.0,68.2,99.0],[6.0,15900.0,73.4,100.0],[14.2,3340.0,65.4,101.0],[11.7,3910.0,69.7,102.0],[5.44,7710.0,66.2,103.0],[9.11,14000.0,76.4,104.0],[5.2,6440.0,73.5,105.0],[5.21,918.0,54.5,106.0],[1.97,3720.0,66.8,107.0],[6.78,8460.0,58.6,108.0],[5.25,1990.0,68.3,109.0],[11.9,45500.0,80.7,110.0],[10.1,32300.0,80.9,111.0],[5.16,814.0,58.8,112.0],[5.07,5150.0,60.5,113.0],[9.48,62300.0,81.0,114.0],[2.77,45300.0,76.1,115.0],[2.2,4280.0,65.3,116.0],[8.1,15400.0,77.8,117.0],[5.87,7290.0,74.1,118.0],[5.08,9960.0,77.9,119.0],[3.61,5600.0,69.0,120.0],[7.46,21800.0,76.3,121.0],[11.0,27200.0,79.8,122.0],[1.81,125000.0,79.5,123.0],[5.58,17800.0,73.7,124.0],[5.08,23100.0,69.2,125.0],[10.5,1350.0,64.6,126.0],[6.47,5400.0,71.5,127.0],[4.29,45400.0,75.1,128.0],[5.66,2180.0,64.0,129.0],[10.4,12700.0,74.7,130.0],[3.4,20400.0,73.4,131.0],[13.1,1220.0,55.0,132.0],[3.96,72100.0,82.7,133.0],[8.79,25200.0,75.5,134.0],[9.41,28700.0,79.5,135.0],[8.55,1780.0,61.7,136.0],[8.94,12000.0,54.3,137.0],[6.93,30400.0,80.1,138.0],[9.54,32500.0,81.9,139.0],[2.94,8560.0,74.4,140.0],[4.47,9920.0,71.6,141.0],[6.32,3370.0,66.3,142.0],[7.01,14200.0,70.3,143.0],[9.63,42900.0,81.5,144.0],[11.5,55500.0,82.2,145.0],[5.98,2110.0,69.6,146.0],[6.01,2090.0,59.3,147.0],[3.88,13500.0,76.6,148.0],[9.12,1850.0,71.1,149.0],[7.65,1210.0,58.7,150.0],[5.07,4980.0,69.9,151.0],[6.21,10400.0,76.9,152.0],[6.74,18000.0,78.2,153.0],[2.5,9940.0,67.9,154.0],[9.01,1540.0,56.8,155.0],[7.72,7820.0,70.4,156.0],[3.66,57600.0,76.5,157.0],[9.64,36200.0,80.3,158.0],[17.9,49400.0,78.7,159.0],[8.35,17100.0,76.4,160.0],[5.81,4240.0,68.8,161.0],[5.25,2950.0,63.0,162.0],[4.91,16500.0,75.4,163.0],[6.84,4490.0,73.1,164.0],[5.18,4480.0,67.5,165.0],[5.89,3280.0,52.0,166.0]],\"hovertemplate\":\"0=%{x}<br>1=%{y}<br>health=%{customdata[0]}<br>income=%{customdata[1]}<br>life_expec=%{customdata[2]}<br>Country Names=%{customdata[3]}<br>Cluster=%{marker.color}<extra></extra>\",\"legendgroup\":\"\",\"marker\":{\"color\":[0,0,0,0,1,0,0,1,1,0,1,1,0,1,0,1,0,0,0,0,1,0,0,1,1,0,0,0,0,1,0,0,0,1,0,0,0,0,0,1,0,1,1,1,1,0,0,0,0,0,0,1,0,1,1,0,0,0,1,0,1,0,0,0,0,0,0,1,1,0,0,0,0,1,1,1,0,1,0,0,0,0,1,0,0,1,1,0,0,1,1,1,1,0,0,1,1,0,1,0,1,0,1,0,1,0,0,0,0,0,1,1,0,0,1,1,0,1,0,0,0,1,1,1,1,0,0,0,1,0,1,1,0,1,1,1,0,0,1,1,0,0,0,0,1,1,0,0,1,0,0,0,1,1,0,0,0,1,1,1,1,0,0,0,1,0,0],\"coloraxis\":\"coloraxis\",\"symbol\":\"circle\"},\"mode\":\"markers\",\"name\":\"\",\"orientation\":\"v\",\"showlegend\":false,\"x\":[-2.5836391108270598,0.09225028980988599,-0.5531314145341504,-2.2263297039011847,0.7462863048311029,-0.3940749577278474,-0.4787500877130834,2.0898371991459497,2.843729524034673,-0.2802505615297235,1.0481221665971852,1.4802207731026327,-1.25663376425015,0.824195583188922,0.21127170235853493,3.1079067972184333,-0.02471907485551591,-2.106123448571015,-0.16981127386664224,-0.8540223520363242,0.6166310752823541,-0.7846617062875764,-0.2164502356684057,2.3801237295242403,0.610470368232274,-2.521201652598486,-2.5138213072246076,-0.5812463660811519,-2.2829387536052215,2.3498183285517364,-0.366097783640279,-3.0556087965386522,-2.546572445495635,0.5957386699348025,-0.34278795859850236,-0.24634322294591865,-1.7430205581032983,-2.501581976002217,-1.5053578948585724,0.5898681924936275,-1.9314829065580486,0.7944720716569256,1.9524338395100003,1.8400753919927642,2.9245747687741552,-0.39935696754288114,-0.24328654364985802,-1.1231096914935375,-0.21690460440177656,-0.42648334444166247,-2.573551841433274,1.438505174853794,-0.3533216234125364,2.2648199398315962,2.0218838637809182,-1.2565394269428198,-1.9306453685345355,0.03930767864287255,2.505659500424362,-1.829191250261938,1.461491912545491,-0.17419498067665545,-0.8188635794105061,-2.4005396127350123,-2.210992218276664,-0.32851909789404055,-2.770389725224265,1.6747504033577614,2.3108737976495304,-1.3161579404165875,-1.201823512330275,-0.3377609858000498,-1.1293621571291765,3.768934290534086,1.2067322034515602,1.9046412687496947,-0.2815693649379526,1.980812311984282,-0.006909814487579077,-0.5429074235389527,-1.7906284331630897,-1.026046766576011,2.4276749100908015,-0.43168515640403704,-1.2127263085852358,0.9322189250269054,0.902820573998117,-1.114168684730077,-1.2537011824856088,0.6438748975749753,1.194315883834147,7.582309233060579,0.43805971109104996,-2.0431103493715725,-2.6038099643947943,1.0527442633635735,0.9407745099499211,-2.5408932524034786,3.90226402863382,-1.401968461041379,0.7082287024714023,-0.34094183969104497,0.311848947611777,-1.1637587005057126,0.7345759745357544,-0.3601536035350078,-2.3885998299593343,-1.8478460837781898,-0.8537231362465184,-1.40334034577118,3.406945137022741,1.5872199641751648,-2.6913571640178384,-4.307999574144326,3.7462196608896905,0.9733066852097692,-2.0162109702969397,1.1147576230532827,-0.035103425978876446,-0.31565458070246977,-0.9511322762651713,0.9238108019640069,1.5455288919090728,4.442890116087535,0.2699230916284976,-0.1988859031065972,-1.545908365313464,-0.8136353046303609,0.7070799558583288,-1.7252924428251832,0.5170098048901149,1.6183325164265885,-2.2352625163817397,6.31577459203395,1.9373016523396756,2.1345835837483276,-0.8742648057308905,-1.0913495509901454,1.694517229003941,1.762948618035335,-1.0267398440073536,-0.18848886428179137,-2.102090006947693,0.0425897766031876,2.729415206653737,4.207766541008466,-1.1981682184419187,-2.3555975849705244,0.7536176529633113,-2.3046639046353117,-1.4787419814351008,-1.0452914601608108,0.4166635337490696,0.15272289060092029,-0.17822142664773627,-2.54682232026627,0.022346849849429824,2.4369561642502426,1.8853783194318536,2.547209065921463,0.31232661316666205,-0.989922140228053,-0.9306081786942896,-0.8977580306078906,0.43700729564226637,-1.8262313608017504,-2.5027548272610347],\"xaxis\":\"x\",\"y\":[-0.13078487793933757,-0.6038710598391861,-0.4106291467378046,1.422848377240247,0.033237056799955075,-1.780084224120345,-0.46574254189576014,-2.4517424280877522,-1.2862240293841032,-0.48145082966258046,-0.9134149529532994,0.35687639403138843,-0.9084487428511301,-0.633000987334532,0.6145039743252795,0.1234782145532687,0.709578343685419,0.15468750628681432,0.7319549900837036,-0.1233980714462249,-1.0412429421923575,0.28754501979865454,-2.1961529829633846,-0.33845827924215593,0.0033676421674892552,-0.24598568934699208,-0.6855580367446538,0.8710491898809762,-0.1571563231505486,-2.1860658292326374,0.4276631716915975,0.04085438328571862,0.8869493606412765,-1.1001441538247598,-1.048559470803441,-1.7264095624914433,0.23089622319897704,0.8058523271182018,2.2228528161705747,-1.3957858247412385,0.9590015886793524,-0.8770800084946239,-0.1844487628541488,0.2581927101578479,-1.3942110281953342,-0.8521890915147587,-1.0048333138234002,-0.6542207605759829,-0.47111273671984977,1.9426133887013315,-0.40742532843636925,0.9868495100901251,1.185390626468797,-1.413982031811131,-2.2155958875309896,0.31707509330295686,0.169416062307821,-0.45124283054401965,-1.655465592391037,0.4164455549490191,-1.9258736529974396,-0.3031987346948853,-0.5244583002636735,0.6426793956648842,-0.3348600752257974,1.4448868260830512,1.1300589404003119,1.2379288093215555,-0.9118764271026686,-0.4083026827808646,-0.4481140118668469,-1.1346565997399902,-0.2015324831963564,1.2565647743243826,-1.1423554401594918,-1.976184897158088,0.0012492569638945818,-2.676050247623244,0.6484339435257293,-0.018956876669332105,-0.06327527438658063,0.28151655256762914,-0.14244526753353376,1.4869765050195725,0.5841915995412191,0.24516300269048094,-0.15574362109897968,1.7879612835740237,0.8644510017511645,0.5233618210390227,0.8006307166555422,3.790731511423236,0.0871424519302175,0.5459543704532922,0.2560520770838523,1.762380815641158,1.1452794414226115,0.37438897978242475,4.5484516380953846,1.3964725098366242,0.5615209191564449,0.06453217624277696,0.3103310350606089,0.9426845327807694,-0.11530261367287697,-0.07349479177459298,0.9070239540523494,-1.3280213473185076,1.0612903928953992,-0.4865028328541471,-0.27974267539176695,-1.6785884531860744,0.8772908091290116,0.27755823188948375,-1.9960710036548135,0.6277817164827328,-0.3131412024681247,1.1948261411296726,0.6133418512128067,-0.7777556632601501,0.235702492547234,-0.4957263033539283,-1.456863933776222,-0.7600221036023836,-0.3681468134629445,-0.7371419050922553,-0.9225818294804345,0.2888324710530971,-0.04102329085654569,0.2631692280151951,-0.6496221180546033,3.087435451080411,-0.583724206719253,6.221253212991089,1.0927621004914567,0.18947080937805602,1.5727559968574076,-0.4426779849522255,-0.3169935218792909,-1.7828104283283635,-0.4136364164286505,0.3386530613743282,-0.5340726146623297,0.14520472746522894,-1.1125821355069594,-0.9237750244393902,0.284159122926704,0.032638171855121044,1.1684863800392091,-0.8927835038567579,1.0008839599166126,0.3551947750760657,0.4934695959400984,-1.1227383963914122,1.4919623694646618,-0.18829660691567915,0.3059439371375305,1.1712500527412688,-1.560147530277573,-3.347198346312213,-1.144185404791461,-0.22225415611011487,1.0322226695239305,-0.66958526608756,1.7504979785871793,0.3000298695374958,0.7349654328552092],\"yaxis\":\"y\",\"type\":\"scatter\"}],                        {\"template\":{\"data\":{\"histogram2dcontour\":[{\"type\":\"histogram2dcontour\",\"colorbar\":{\"outlinewidth\":0,\"ticks\":\"\"},\"colorscale\":[[0.0,\"#0d0887\"],[0.1111111111111111,\"#46039f\"],[0.2222222222222222,\"#7201a8\"],[0.3333333333333333,\"#9c179e\"],[0.4444444444444444,\"#bd3786\"],[0.5555555555555556,\"#d8576b\"],[0.6666666666666666,\"#ed7953\"],[0.7777777777777778,\"#fb9f3a\"],[0.8888888888888888,\"#fdca26\"],[1.0,\"#f0f921\"]]}],\"choropleth\":[{\"type\":\"choropleth\",\"colorbar\":{\"outlinewidth\":0,\"ticks\":\"\"}}],\"histogram2d\":[{\"type\":\"histogram2d\",\"colorbar\":{\"outlinewidth\":0,\"ticks\":\"\"},\"colorscale\":[[0.0,\"#0d0887\"],[0.1111111111111111,\"#46039f\"],[0.2222222222222222,\"#7201a8\"],[0.3333333333333333,\"#9c179e\"],[0.4444444444444444,\"#bd3786\"],[0.5555555555555556,\"#d8576b\"],[0.6666666666666666,\"#ed7953\"],[0.7777777777777778,\"#fb9f3a\"],[0.8888888888888888,\"#fdca26\"],[1.0,\"#f0f921\"]]}],\"heatmap\":[{\"type\":\"heatmap\",\"colorbar\":{\"outlinewidth\":0,\"ticks\":\"\"},\"colorscale\":[[0.0,\"#0d0887\"],[0.1111111111111111,\"#46039f\"],[0.2222222222222222,\"#7201a8\"],[0.3333333333333333,\"#9c179e\"],[0.4444444444444444,\"#bd3786\"],[0.5555555555555556,\"#d8576b\"],[0.6666666666666666,\"#ed7953\"],[0.7777777777777778,\"#fb9f3a\"],[0.8888888888888888,\"#fdca26\"],[1.0,\"#f0f921\"]]}],\"heatmapgl\":[{\"type\":\"heatmapgl\",\"colorbar\":{\"outlinewidth\":0,\"ticks\":\"\"},\"colorscale\":[[0.0,\"#0d0887\"],[0.1111111111111111,\"#46039f\"],[0.2222222222222222,\"#7201a8\"],[0.3333333333333333,\"#9c179e\"],[0.4444444444444444,\"#bd3786\"],[0.5555555555555556,\"#d8576b\"],[0.6666666666666666,\"#ed7953\"],[0.7777777777777778,\"#fb9f3a\"],[0.8888888888888888,\"#fdca26\"],[1.0,\"#f0f921\"]]}],\"contourcarpet\":[{\"type\":\"contourcarpet\",\"colorbar\":{\"outlinewidth\":0,\"ticks\":\"\"}}],\"contour\":[{\"type\":\"contour\",\"colorbar\":{\"outlinewidth\":0,\"ticks\":\"\"},\"colorscale\":[[0.0,\"#0d0887\"],[0.1111111111111111,\"#46039f\"],[0.2222222222222222,\"#7201a8\"],[0.3333333333333333,\"#9c179e\"],[0.4444444444444444,\"#bd3786\"],[0.5555555555555556,\"#d8576b\"],[0.6666666666666666,\"#ed7953\"],[0.7777777777777778,\"#fb9f3a\"],[0.8888888888888888,\"#fdca26\"],[1.0,\"#f0f921\"]]}],\"surface\":[{\"type\":\"surface\",\"colorbar\":{\"outlinewidth\":0,\"ticks\":\"\"},\"colorscale\":[[0.0,\"#0d0887\"],[0.1111111111111111,\"#46039f\"],[0.2222222222222222,\"#7201a8\"],[0.3333333333333333,\"#9c179e\"],[0.4444444444444444,\"#bd3786\"],[0.5555555555555556,\"#d8576b\"],[0.6666666666666666,\"#ed7953\"],[0.7777777777777778,\"#fb9f3a\"],[0.8888888888888888,\"#fdca26\"],[1.0,\"#f0f921\"]]}],\"mesh3d\":[{\"type\":\"mesh3d\",\"colorbar\":{\"outlinewidth\":0,\"ticks\":\"\"}}],\"scatter\":[{\"fillpattern\":{\"fillmode\":\"overlay\",\"size\":10,\"solidity\":0.2},\"type\":\"scatter\"}],\"parcoords\":[{\"type\":\"parcoords\",\"line\":{\"colorbar\":{\"outlinewidth\":0,\"ticks\":\"\"}}}],\"scatterpolargl\":[{\"type\":\"scatterpolargl\",\"marker\":{\"colorbar\":{\"outlinewidth\":0,\"ticks\":\"\"}}}],\"bar\":[{\"error_x\":{\"color\":\"#2a3f5f\"},\"error_y\":{\"color\":\"#2a3f5f\"},\"marker\":{\"line\":{\"color\":\"#E5ECF6\",\"width\":0.5},\"pattern\":{\"fillmode\":\"overlay\",\"size\":10,\"solidity\":0.2}},\"type\":\"bar\"}],\"scattergeo\":[{\"type\":\"scattergeo\",\"marker\":{\"colorbar\":{\"outlinewidth\":0,\"ticks\":\"\"}}}],\"scatterpolar\":[{\"type\":\"scatterpolar\",\"marker\":{\"colorbar\":{\"outlinewidth\":0,\"ticks\":\"\"}}}],\"histogram\":[{\"marker\":{\"pattern\":{\"fillmode\":\"overlay\",\"size\":10,\"solidity\":0.2}},\"type\":\"histogram\"}],\"scattergl\":[{\"type\":\"scattergl\",\"marker\":{\"colorbar\":{\"outlinewidth\":0,\"ticks\":\"\"}}}],\"scatter3d\":[{\"type\":\"scatter3d\",\"line\":{\"colorbar\":{\"outlinewidth\":0,\"ticks\":\"\"}},\"marker\":{\"colorbar\":{\"outlinewidth\":0,\"ticks\":\"\"}}}],\"scattermapbox\":[{\"type\":\"scattermapbox\",\"marker\":{\"colorbar\":{\"outlinewidth\":0,\"ticks\":\"\"}}}],\"scatterternary\":[{\"type\":\"scatterternary\",\"marker\":{\"colorbar\":{\"outlinewidth\":0,\"ticks\":\"\"}}}],\"scattercarpet\":[{\"type\":\"scattercarpet\",\"marker\":{\"colorbar\":{\"outlinewidth\":0,\"ticks\":\"\"}}}],\"carpet\":[{\"aaxis\":{\"endlinecolor\":\"#2a3f5f\",\"gridcolor\":\"white\",\"linecolor\":\"white\",\"minorgridcolor\":\"white\",\"startlinecolor\":\"#2a3f5f\"},\"baxis\":{\"endlinecolor\":\"#2a3f5f\",\"gridcolor\":\"white\",\"linecolor\":\"white\",\"minorgridcolor\":\"white\",\"startlinecolor\":\"#2a3f5f\"},\"type\":\"carpet\"}],\"table\":[{\"cells\":{\"fill\":{\"color\":\"#EBF0F8\"},\"line\":{\"color\":\"white\"}},\"header\":{\"fill\":{\"color\":\"#C8D4E3\"},\"line\":{\"color\":\"white\"}},\"type\":\"table\"}],\"barpolar\":[{\"marker\":{\"line\":{\"color\":\"#E5ECF6\",\"width\":0.5},\"pattern\":{\"fillmode\":\"overlay\",\"size\":10,\"solidity\":0.2}},\"type\":\"barpolar\"}],\"pie\":[{\"automargin\":true,\"type\":\"pie\"}]},\"layout\":{\"autotypenumbers\":\"strict\",\"colorway\":[\"#636efa\",\"#EF553B\",\"#00cc96\",\"#ab63fa\",\"#FFA15A\",\"#19d3f3\",\"#FF6692\",\"#B6E880\",\"#FF97FF\",\"#FECB52\"],\"font\":{\"color\":\"#2a3f5f\"},\"hovermode\":\"closest\",\"hoverlabel\":{\"align\":\"left\"},\"paper_bgcolor\":\"white\",\"plot_bgcolor\":\"#E5ECF6\",\"polar\":{\"bgcolor\":\"#E5ECF6\",\"angularaxis\":{\"gridcolor\":\"white\",\"linecolor\":\"white\",\"ticks\":\"\"},\"radialaxis\":{\"gridcolor\":\"white\",\"linecolor\":\"white\",\"ticks\":\"\"}},\"ternary\":{\"bgcolor\":\"#E5ECF6\",\"aaxis\":{\"gridcolor\":\"white\",\"linecolor\":\"white\",\"ticks\":\"\"},\"baxis\":{\"gridcolor\":\"white\",\"linecolor\":\"white\",\"ticks\":\"\"},\"caxis\":{\"gridcolor\":\"white\",\"linecolor\":\"white\",\"ticks\":\"\"}},\"coloraxis\":{\"colorbar\":{\"outlinewidth\":0,\"ticks\":\"\"}},\"colorscale\":{\"sequential\":[[0.0,\"#0d0887\"],[0.1111111111111111,\"#46039f\"],[0.2222222222222222,\"#7201a8\"],[0.3333333333333333,\"#9c179e\"],[0.4444444444444444,\"#bd3786\"],[0.5555555555555556,\"#d8576b\"],[0.6666666666666666,\"#ed7953\"],[0.7777777777777778,\"#fb9f3a\"],[0.8888888888888888,\"#fdca26\"],[1.0,\"#f0f921\"]],\"sequentialminus\":[[0.0,\"#0d0887\"],[0.1111111111111111,\"#46039f\"],[0.2222222222222222,\"#7201a8\"],[0.3333333333333333,\"#9c179e\"],[0.4444444444444444,\"#bd3786\"],[0.5555555555555556,\"#d8576b\"],[0.6666666666666666,\"#ed7953\"],[0.7777777777777778,\"#fb9f3a\"],[0.8888888888888888,\"#fdca26\"],[1.0,\"#f0f921\"]],\"diverging\":[[0,\"#8e0152\"],[0.1,\"#c51b7d\"],[0.2,\"#de77ae\"],[0.3,\"#f1b6da\"],[0.4,\"#fde0ef\"],[0.5,\"#f7f7f7\"],[0.6,\"#e6f5d0\"],[0.7,\"#b8e186\"],[0.8,\"#7fbc41\"],[0.9,\"#4d9221\"],[1,\"#276419\"]]},\"xaxis\":{\"gridcolor\":\"white\",\"linecolor\":\"white\",\"ticks\":\"\",\"title\":{\"standoff\":15},\"zerolinecolor\":\"white\",\"automargin\":true,\"zerolinewidth\":2},\"yaxis\":{\"gridcolor\":\"white\",\"linecolor\":\"white\",\"ticks\":\"\",\"title\":{\"standoff\":15},\"zerolinecolor\":\"white\",\"automargin\":true,\"zerolinewidth\":2},\"scene\":{\"xaxis\":{\"backgroundcolor\":\"#E5ECF6\",\"gridcolor\":\"white\",\"linecolor\":\"white\",\"showbackground\":true,\"ticks\":\"\",\"zerolinecolor\":\"white\",\"gridwidth\":2},\"yaxis\":{\"backgroundcolor\":\"#E5ECF6\",\"gridcolor\":\"white\",\"linecolor\":\"white\",\"showbackground\":true,\"ticks\":\"\",\"zerolinecolor\":\"white\",\"gridwidth\":2},\"zaxis\":{\"backgroundcolor\":\"#E5ECF6\",\"gridcolor\":\"white\",\"linecolor\":\"white\",\"showbackground\":true,\"ticks\":\"\",\"zerolinecolor\":\"white\",\"gridwidth\":2}},\"shapedefaults\":{\"line\":{\"color\":\"#2a3f5f\"}},\"annotationdefaults\":{\"arrowcolor\":\"#2a3f5f\",\"arrowhead\":0,\"arrowwidth\":1},\"geo\":{\"bgcolor\":\"white\",\"landcolor\":\"#E5ECF6\",\"subunitcolor\":\"white\",\"showland\":true,\"showlakes\":true,\"lakecolor\":\"white\"},\"title\":{\"x\":0.05},\"mapbox\":{\"style\":\"light\"}}},\"xaxis\":{\"anchor\":\"y\",\"domain\":[0.0,1.0],\"title\":{\"text\":\"0\"}},\"yaxis\":{\"anchor\":\"x\",\"domain\":[0.0,1.0],\"title\":{\"text\":\"1\"}},\"coloraxis\":{\"colorbar\":{\"title\":{\"text\":\"Cluster\"}},\"colorscale\":[[0.0,\"#0d0887\"],[0.1111111111111111,\"#46039f\"],[0.2222222222222222,\"#7201a8\"],[0.3333333333333333,\"#9c179e\"],[0.4444444444444444,\"#bd3786\"],[0.5555555555555556,\"#d8576b\"],[0.6666666666666666,\"#ed7953\"],[0.7777777777777778,\"#fb9f3a\"],[0.8888888888888888,\"#fdca26\"],[1.0,\"#f0f921\"]]},\"legend\":{\"tracegroupgap\":0},\"margin\":{\"t\":60}},                        {\"responsive\": true}                    ).then(function(){\n",
       "                            \n",
       "var gd = document.getElementById('c4695a65-8dbb-4b4d-a7bd-9935402c169f');\n",
       "var x = new MutationObserver(function (mutations, observer) {{\n",
       "        var display = window.getComputedStyle(gd).display;\n",
       "        if (!display || display === 'none') {{\n",
       "            console.log([gd, 'removed!']);\n",
       "            Plotly.purge(gd);\n",
       "            observer.disconnect();\n",
       "        }}\n",
       "}});\n",
       "\n",
       "// Listen for the removal of the full notebook cells\n",
       "var notebookContainer = gd.closest('#notebook-container');\n",
       "if (notebookContainer) {{\n",
       "    x.observe(notebookContainer, {childList: true});\n",
       "}}\n",
       "\n",
       "// Listen for the clearing of the current output cell\n",
       "var outputEl = gd.closest('.output');\n",
       "if (outputEl) {{\n",
       "    x.observe(outputEl, {childList: true});\n",
       "}}\n",
       "\n",
       "                        })                };                });            </script>        </div>"
      ]
     },
     "metadata": {},
     "output_type": "display_data"
    }
   ],
   "source": [
    "fig = px.scatter(pd.concat([new_df , df_mortscaled_pca] , axis  = 1) , x = 0 , y = 1 , color = 'Cluster' , hover_data = ['health' , 'income' , 'life_expec' , 'Country Names'])\n",
    "fig.show()"
   ]
  },
  {
   "cell_type": "code",
   "execution_count": null,
   "id": "559b002b",
   "metadata": {},
   "outputs": [],
   "source": []
  }
 ],
 "metadata": {
  "kernelspec": {
   "display_name": "Python 3 (ipykernel)",
   "language": "python",
   "name": "python3"
  },
  "language_info": {
   "codemirror_mode": {
    "name": "ipython",
    "version": 3
   },
   "file_extension": ".py",
   "mimetype": "text/x-python",
   "name": "python",
   "nbconvert_exporter": "python",
   "pygments_lexer": "ipython3",
   "version": "3.11.5"
  }
 },
 "nbformat": 4,
 "nbformat_minor": 5
}
